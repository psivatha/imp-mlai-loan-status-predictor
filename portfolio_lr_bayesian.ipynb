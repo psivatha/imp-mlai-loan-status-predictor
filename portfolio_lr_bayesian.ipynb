{
 "cells": [
  {
   "metadata": {
    "ExecuteTime": {
     "end_time": "2024-08-05T08:47:20.006553Z",
     "start_time": "2024-08-05T08:47:20.002969Z"
    }
   },
   "cell_type": "code",
   "source": [
    "import warnings\n",
    "\n",
    "from sklearn.linear_model import LogisticRegression\n",
    "from sklearn.metrics import accuracy_score, classification_report\n",
    "from sklearn.model_selection import cross_val_score\n",
    "\n",
    "from utils import *"
   ],
   "id": "b9ea6d28c147213d",
   "outputs": [],
   "execution_count": 2
  },
  {
   "metadata": {
    "ExecuteTime": {
     "end_time": "2024-08-05T08:47:28.063550Z",
     "start_time": "2024-08-05T08:47:28.035761Z"
    }
   },
   "cell_type": "code",
   "source": [
    "warnings.filterwarnings(\"ignore\")\n",
    "\n",
    "X_train, X_test, y_train, y_test, train_df, test_df = preprocess_data(standardise=False)"
   ],
   "id": "ce1008c2c839d3be",
   "outputs": [],
   "execution_count": 3
  },
  {
   "metadata": {
    "ExecuteTime": {
     "end_time": "2024-08-05T08:47:33.889670Z",
     "start_time": "2024-08-05T08:47:33.866377Z"
    }
   },
   "cell_type": "code",
   "source": [
    "scaler = StandardScaler()\n",
    "X_train_scaled = scaler.fit_transform(X_train)\n",
    "X_test_scaled = scaler.transform(X_test)\n",
    "\n",
    "lr_model = LogisticRegression()\n",
    "lr_model.fit(X_train_scaled, y_train)\n",
    "y_pred_lr = lr_model.predict(X_test_scaled)\n",
    "lr_accuracy = accuracy_score(y_test, y_pred_lr)\n",
    "lr_report = classification_report(y_test, y_pred_lr)\n",
    "print(lr_report)\n",
    "print(lr_accuracy)"
   ],
   "id": "3e1640e3d8587cdb",
   "outputs": [
    {
     "name": "stdout",
     "output_type": "stream",
     "text": [
      "              precision    recall  f1-score   support\n",
      "\n",
      "           0       0.90      0.42      0.57        43\n",
      "           1       0.76      0.97      0.85        80\n",
      "\n",
      "    accuracy                           0.78       123\n",
      "   macro avg       0.83      0.70      0.71       123\n",
      "weighted avg       0.81      0.78      0.75       123\n",
      "\n",
      "0.7804878048780488\n"
     ]
    }
   ],
   "execution_count": 4
  },
  {
   "metadata": {
    "ExecuteTime": {
     "end_time": "2024-08-05T08:47:40.317008Z",
     "start_time": "2024-08-05T08:47:40.313050Z"
    }
   },
   "cell_type": "code",
   "source": [
    "def optimise_logistic_regression(C, max_iter):\n",
    "    model = LogisticRegression(\n",
    "        C=C,\n",
    "        max_iter=int(max_iter),\n",
    "        random_state=42,\n",
    "        solver='liblinear'  # You can change the solver if needed\n",
    "    )\n",
    "    return cross_val_score(model, X_train, y_train, cv=5, scoring='accuracy').mean()\n"
   ],
   "id": "cb5eb056dc7e4a15",
   "outputs": [],
   "execution_count": 5
  },
  {
   "metadata": {
    "ExecuteTime": {
     "end_time": "2024-08-05T08:47:41.447575Z",
     "start_time": "2024-08-05T08:47:41.225440Z"
    }
   },
   "cell_type": "code",
   "source": [
    "param_space = np.array([\n",
    "    (0.01, 10),  # Regularization strength\n",
    "    (100, 1000)  # Number of iterations\n",
    "])\n",
    "\n",
    "n_iters = 25\n",
    "initial_samples = 5\n",
    "\n",
    "# Initial random samples\n",
    "x0 = np.random.uniform(param_space[:, 0], param_space[:, 1], size=(initial_samples, param_space.shape[0]))\n",
    "y0 = np.array([optimise_logistic_regression(*params) for params in x0])\n",
    "\n",
    "gp_params = {\"alpha\": 1e-6}\n"
   ],
   "id": "c1520f602f584678",
   "outputs": [],
   "execution_count": 6
  },
  {
   "metadata": {
    "ExecuteTime": {
     "end_time": "2024-08-05T07:43:49.567559Z",
     "start_time": "2024-08-05T07:43:47.334372Z"
    }
   },
   "cell_type": "code",
   "source": [
    "X_sample, Y_sample, gpr = bayesian_optimisation(n_iters, optimise_logistic_regression, param_space, x0, y0.reshape(-1, 1), gp_params)\n",
    "\n",
    "# Best parameters\n",
    "best_idx = np.argmax(Y_sample)\n",
    "best_params = X_sample[best_idx]\n",
    "best_accuracy = Y_sample[best_idx]\n",
    "\n",
    "print(f\"Best accuracy: {best_accuracy}\")"
   ],
   "id": "841ce3237fc00a49",
   "outputs": [
    {
     "name": "stdout",
     "output_type": "stream",
     "text": [
      "Best accuracy: [0.81255411]\n"
     ]
    }
   ],
   "execution_count": 14
  },
  {
   "metadata": {},
   "cell_type": "code",
   "outputs": [],
   "execution_count": null,
   "source": "",
   "id": "ba42da34a18d09d5"
  }
 ],
 "metadata": {
  "kernelspec": {
   "display_name": "Python 3",
   "language": "python",
   "name": "python3"
  },
  "language_info": {
   "codemirror_mode": {
    "name": "ipython",
    "version": 2
   },
   "file_extension": ".py",
   "mimetype": "text/x-python",
   "name": "python",
   "nbconvert_exporter": "python",
   "pygments_lexer": "ipython2",
   "version": "2.7.6"
  }
 },
 "nbformat": 4,
 "nbformat_minor": 5
}
