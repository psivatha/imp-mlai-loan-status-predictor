{
 "cells": [
  {
   "metadata": {
    "ExecuteTime": {
     "end_time": "2024-08-05T14:25:34.264152Z",
     "start_time": "2024-08-05T14:25:32.558903Z"
    }
   },
   "cell_type": "code",
   "source": [
    "import warnings\n",
    "\n",
    "import numpy as np\n",
    "from sklearn.linear_model import LogisticRegression\n",
    "from sklearn.metrics import accuracy_score\n",
    "from sklearn.metrics import classification_report\n",
    "from sklearn.model_selection import cross_val_score\n",
    "from sklearn.preprocessing import StandardScaler\n",
    "\n",
    "from utils import preprocess_data, bayesian_optimisation, write_new_data_file"
   ],
   "id": "b9ea6d28c147213d",
   "outputs": [],
   "execution_count": 1
  },
  {
   "metadata": {
    "ExecuteTime": {
     "end_time": "2024-08-05T14:25:34.292200Z",
     "start_time": "2024-08-05T14:25:34.266661Z"
    }
   },
   "cell_type": "code",
   "source": [
    "warnings.filterwarnings(\"ignore\")\n",
    "\n",
    "X_train, X_test, y_train, y_test, train_df, test_df = preprocess_data(standardise=False)"
   ],
   "id": "ce1008c2c839d3be",
   "outputs": [],
   "execution_count": 2
  },
  {
   "metadata": {
    "ExecuteTime": {
     "end_time": "2024-08-05T14:25:34.314423Z",
     "start_time": "2024-08-05T14:25:34.293495Z"
    }
   },
   "cell_type": "code",
   "source": [
    "scaler = StandardScaler()\n",
    "X_train_scaled = scaler.fit_transform(X_train)\n",
    "X_test_scaled = scaler.transform(X_test)\n",
    "\n",
    "lr_model = LogisticRegression()\n",
    "lr_model.fit(X_train_scaled, y_train)\n",
    "y_pred_lr = lr_model.predict(X_test_scaled)\n",
    "lr_accuracy = accuracy_score(y_test, y_pred_lr)\n",
    "lr_report = classification_report(y_test, y_pred_lr)\n",
    "print(lr_report)\n",
    "print(lr_accuracy)"
   ],
   "id": "3e1640e3d8587cdb",
   "outputs": [
    {
     "name": "stdout",
     "output_type": "stream",
     "text": [
      "              precision    recall  f1-score   support\n",
      "\n",
      "           0       0.90      0.42      0.57        43\n",
      "           1       0.76      0.97      0.85        80\n",
      "\n",
      "    accuracy                           0.78       123\n",
      "   macro avg       0.83      0.70      0.71       123\n",
      "weighted avg       0.81      0.78      0.75       123\n",
      "\n",
      "0.7804878048780488\n"
     ]
    }
   ],
   "execution_count": 3
  },
  {
   "metadata": {},
   "cell_type": "markdown",
   "source": "Optimise the hyperparameters of LR model by using `cross-validation` to evaluate different configurations",
   "id": "69ceb44d88b27782"
  },
  {
   "metadata": {
    "ExecuteTime": {
     "end_time": "2024-08-05T14:25:34.318505Z",
     "start_time": "2024-08-05T14:25:34.315509Z"
    }
   },
   "cell_type": "code",
   "source": [
    "def optimise_logistic_regression(C, max_iter):\n",
    "    model = LogisticRegression(\n",
    "        C=C,\n",
    "        max_iter=int(max_iter),\n",
    "        random_state=42,\n",
    "        solver='liblinear'  # You can change the solver if needed\n",
    "    )\n",
    "    return cross_val_score(model, X_train, y_train, cv=5, scoring='accuracy').mean()\n"
   ],
   "id": "cb5eb056dc7e4a15",
   "outputs": [],
   "execution_count": 4
  },
  {
   "metadata": {
    "ExecuteTime": {
     "end_time": "2024-08-05T14:25:34.479444Z",
     "start_time": "2024-08-05T14:25:34.321267Z"
    }
   },
   "cell_type": "code",
   "source": [
    "param_space = np.array([\n",
    "    (0.01, 10),  # Regularization strength\n",
    "    (100, 1000)  # Number of iterations\n",
    "])\n",
    "\n",
    "n_iters = 25\n",
    "initial_samples = 5\n",
    "\n",
    "# Initial random samples\n",
    "x0 = np.random.uniform(param_space[:, 0], param_space[:, 1], size=(initial_samples, param_space.shape[0]))\n",
    "y0 = np.array([optimise_logistic_regression(*params) for params in x0])\n",
    "\n",
    "gp_params = {\"alpha\": 1e-6}\n"
   ],
   "id": "c1520f602f584678",
   "outputs": [],
   "execution_count": 5
  },
  {
   "metadata": {
    "ExecuteTime": {
     "end_time": "2024-08-05T14:25:38.109929Z",
     "start_time": "2024-08-05T14:25:34.480930Z"
    }
   },
   "cell_type": "code",
   "source": [
    "X_sample, Y_sample, gpr = bayesian_optimisation(n_iters, optimise_logistic_regression, param_space, x0, y0.reshape(-1, 1), gp_params)\n",
    "\n",
    "# Best parameters\n",
    "best_idx = np.argmax(Y_sample)\n",
    "best_params = X_sample[best_idx]\n",
    "best_accuracy = Y_sample[best_idx]\n",
    "\n",
    "print(f\"Best accuracy: {best_accuracy}\")"
   ],
   "id": "841ce3237fc00a49",
   "outputs": [
    {
     "name": "stdout",
     "output_type": "stream",
     "text": [
      "Best accuracy: [0.81255411]\n"
     ]
    }
   ],
   "execution_count": 6
  },
  {
   "metadata": {},
   "cell_type": "markdown",
   "source": "Use the best model to create a validation set to be used for the other models in the project",
   "id": "1c33998ac22ea225"
  },
  {
   "metadata": {
    "ExecuteTime": {
     "end_time": "2024-08-05T14:25:38.128021Z",
     "start_time": "2024-08-05T14:25:38.111180Z"
    }
   },
   "cell_type": "code",
   "source": [
    "best_model = LogisticRegression(\n",
    "    C=best_params[0],\n",
    "    max_iter=int(best_params[1]),\n",
    "    random_state=42,\n",
    "    solver='liblinear'  # You can change the solver if needed\n",
    ")\n",
    "\n",
    "target_filename = \"data/loan_sanction_test_with_predictions_lr.csv\"\n",
    "write_new_data_file(best_model, X_train, y_train, test_df, target_filename)"
   ],
   "id": "ba42da34a18d09d5",
   "outputs": [
    {
     "name": "stdout",
     "output_type": "stream",
     "text": [
      "Predictions have been saved to data/loan_sanction_test_with_predictions_lr.csv.\n"
     ]
    }
   ],
   "execution_count": 7
  },
  {
   "metadata": {},
   "cell_type": "markdown",
   "source": [
    "Validate this model against the data produced by the other models. \n",
    "## It can be seen the the data LeNet5 created fares well with LR"
   ],
   "id": "bd590b5c789e0e3b"
  },
  {
   "metadata": {
    "ExecuteTime": {
     "end_time": "2024-08-05T14:45:54.282863Z",
     "start_time": "2024-08-05T14:45:54.230631Z"
    }
   },
   "cell_type": "code",
   "source": [
    "import pandas as pd\n",
    "\n",
    "for algo, filename in {\n",
    "    \"CNN\" : 'data/loan_sanction_test_with_predictions_cnn.csv',\n",
    "    \"DT\": 'data/loan_sanction_test_with_predictions_decision_tree.csv',\n",
    "    \"KNN\": 'data/loan_sanction_test_with_predictions_knn.csv',\n",
    "    \"LeNet5\": 'data/loan_sanction_test_with_predictions_lenet5.csv',\n",
    "}.items():\n",
    "    test_df_new = pd.read_csv(filename)\n",
    "    X_new = test_df_new.drop(columns=['Loan_ID', 'Loan_Status'])\n",
    "    y_new = test_df_new['Loan_Status']\n",
    "\n",
    "    y_pred = best_model.predict(X_new)\n",
    "    y_pred = (y_pred > 0.5).astype(int)  # Convert probabilities to class labels\n",
    "\n",
    "    lr_accuracy = accuracy_score(y_new, y_pred)\n",
    "    lr_report = classification_report(y_new, y_pred)\n",
    "    print(f'LR performance for {algo} produced predictions {lr_accuracy}')\n",
    "    "
   ],
   "id": "a213317889fe6a34",
   "outputs": [
    {
     "name": "stdout",
     "output_type": "stream",
     "text": [
      "LR performance for CNN produced predictions 0.16076294277929154\n",
      "LR performance for DT produced predictions 0.9482288828337875\n",
      "LR performance for KNN produced predictions 0.4713896457765668\n",
      "LR performance for LeNet5 produced predictions 1.0\n"
     ]
    }
   ],
   "execution_count": 9
  },
  {
   "metadata": {},
   "cell_type": "code",
   "outputs": [],
   "execution_count": null,
   "source": "",
   "id": "9faaf284f1185e39"
  }
 ],
 "metadata": {
  "kernelspec": {
   "display_name": "Python 3",
   "language": "python",
   "name": "python3"
  },
  "language_info": {
   "codemirror_mode": {
    "name": "ipython",
    "version": 2
   },
   "file_extension": ".py",
   "mimetype": "text/x-python",
   "name": "python",
   "nbconvert_exporter": "python",
   "pygments_lexer": "ipython2",
   "version": "2.7.6"
  }
 },
 "nbformat": 4,
 "nbformat_minor": 5
}
