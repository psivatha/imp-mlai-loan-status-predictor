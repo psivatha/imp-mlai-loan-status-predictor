{
 "cells": [
  {
   "metadata": {
    "ExecuteTime": {
     "end_time": "2024-07-31T19:57:47.252031Z",
     "start_time": "2024-07-31T19:57:47.248758Z"
    }
   },
   "cell_type": "code",
   "source": [
    "import warnings\n",
    "\n",
    "import pandas as pd\n",
    "import numpy as np\n",
    "from sklearn.linear_model import LogisticRegression\n",
    "from sklearn.model_selection import train_test_split, cross_val_score\n",
    "from bayes_opt import BayesianOptimization\n",
    "from sklearn.preprocessing import StandardScaler\n",
    "from sklearn.metrics import accuracy_score, classification_report\n"
   ],
   "id": "b9ea6d28c147213d",
   "outputs": [],
   "execution_count": 14
  },
  {
   "metadata": {
    "ExecuteTime": {
     "end_time": "2024-07-31T19:57:47.725781Z",
     "start_time": "2024-07-31T19:57:47.693725Z"
    }
   },
   "cell_type": "code",
   "source": [
    "warnings.filterwarnings(\"ignore\")\n",
    "\n",
    "train_df = pd.read_csv('data/loan_sanction_train.csv')\n",
    "\n",
    "# The original test data doesn't contain the Loan_Status field\n",
    "# Nevertheless loading it to construct a test set for another algorithm\n",
    "test_df = pd.read_csv('data/loan_sanction_test.csv')\n",
    "\n",
    "for df in [train_df, test_df]:\n",
    "    # Convert categorical variables into numeric\n",
    "    df['Gender'] = df['Gender'].map({'Male': 1, 'Female': 0})\n",
    "    df['Married'] = df['Married'].map({'Yes': 1, 'No': 0})\n",
    "    df['Education'] = df['Education'].map({'Graduate': 1, 'Not Graduate': 0})\n",
    "    df['Self_Employed'] = df['Self_Employed'].map({'Yes': 1, 'No': 0})\n",
    "    df['Property_Area'] = df['Property_Area'].map({'Urban': 2, 'Semiurban': 1, 'Rural': 0})\n",
    "    df['Dependents'] = df['Dependents'].replace('3+', 3)\n",
    "\n",
    "    # Fill missing values. Do it after converting categorical values into numeric\n",
    "    df['LoanAmount'].fillna(df['LoanAmount'].mean(), inplace=True)\n",
    "    df['Loan_Amount_Term'].fillna(df['Loan_Amount_Term'].mode()[0], inplace=True)\n",
    "    df['Credit_History'].fillna(df['Credit_History'].mode()[0], inplace=True)\n",
    "    df['Gender'].fillna(df['Gender'].mode()[0], inplace=True)\n",
    "    df['Married'].fillna(df['Married'].mode()[0], inplace=True)\n",
    "    df['Dependents'].fillna(df['Dependents'].mode()[0], inplace=True)\n",
    "    df['Self_Employed'].fillna(df['Self_Employed'].mode()[0], inplace=True)\n",
    "\n",
    "    # Create extra features that can be useful and meaningful\n",
    "    df['TotalIncome'] = df['ApplicantIncome'] + df['CoapplicantIncome']\n",
    "    df['LoanIncomeRatio'] = df['LoanAmount'] / df['TotalIncome']\n",
    "\n",
    "# Convert the output variable into numeric\n",
    "train_df['Loan_Status'] = train_df['Loan_Status'].map({'Y': 1, 'N': 0})\n",
    "X = train_df.drop(columns=['Loan_ID', 'Loan_Status'])\n",
    "y = train_df['Loan_Status']\n",
    "\n",
    "# Carry out train/test split from the given training data\n",
    "X_train, X_test, y_train, y_test = train_test_split(X, y, test_size=0.2, random_state=42)"
   ],
   "id": "ce1008c2c839d3be",
   "outputs": [],
   "execution_count": 15
  },
  {
   "metadata": {
    "ExecuteTime": {
     "end_time": "2024-07-31T19:57:48.513981Z",
     "start_time": "2024-07-31T19:57:48.495784Z"
    }
   },
   "cell_type": "code",
   "source": [
    "\n",
    "\n",
    "scaler = StandardScaler()\n",
    "X_train_scaled = scaler.fit_transform(X_train)\n",
    "X_test_scaled = scaler.transform(X_test)\n",
    "\n",
    "lr_model = LogisticRegression()\n",
    "lr_model.fit(X_train_scaled, y_train)\n",
    "y_pred_lr = lr_model.predict(X_test_scaled)\n",
    "lr_accuracy = accuracy_score(y_test, y_pred_lr)\n",
    "lr_report = classification_report(y_test, y_pred_lr)\n",
    "print(lr_report)\n",
    "print(lr_accuracy)"
   ],
   "id": "3e1640e3d8587cdb",
   "outputs": [
    {
     "name": "stdout",
     "output_type": "stream",
     "text": [
      "              precision    recall  f1-score   support\n",
      "\n",
      "           0       0.90      0.42      0.57        43\n",
      "           1       0.76      0.97      0.85        80\n",
      "\n",
      "    accuracy                           0.78       123\n",
      "   macro avg       0.83      0.70      0.71       123\n",
      "weighted avg       0.81      0.78      0.75       123\n",
      "\n",
      "0.7804878048780488\n"
     ]
    }
   ],
   "execution_count": 16
  },
  {
   "metadata": {
    "ExecuteTime": {
     "end_time": "2024-07-31T19:57:49.712314Z",
     "start_time": "2024-07-31T19:57:49.708370Z"
    }
   },
   "cell_type": "code",
   "source": [
    "def optimize_logistic_regression(C, max_iter):\n",
    "    model = LogisticRegression(\n",
    "        C=C,\n",
    "        max_iter=int(max_iter),\n",
    "        random_state=42,\n",
    "        solver='liblinear'  # You can change the solver if needed\n",
    "    )\n",
    "    return cross_val_score(model, X_train, y_train, cv=5, scoring='accuracy').mean()\n"
   ],
   "id": "cb5eb056dc7e4a15",
   "outputs": [],
   "execution_count": 17
  },
  {
   "metadata": {
    "ExecuteTime": {
     "end_time": "2024-07-31T19:57:52.437208Z",
     "start_time": "2024-07-31T19:57:52.433610Z"
    }
   },
   "cell_type": "code",
   "source": [
    "param_space = {\n",
    "    'C': (0.01, 10),  # Regularization strength\n",
    "    'max_iter': (100, 1000)  # Number of iterations\n",
    "}\n"
   ],
   "id": "c1520f602f584678",
   "outputs": [],
   "execution_count": 18
  },
  {
   "metadata": {
    "ExecuteTime": {
     "end_time": "2024-07-31T19:57:55.661627Z",
     "start_time": "2024-07-31T19:57:52.870529Z"
    }
   },
   "cell_type": "code",
   "source": [
    "optimizer = BayesianOptimization(\n",
    "    f=optimize_logistic_regression,\n",
    "    pbounds=param_space,\n",
    "    random_state=42\n",
    ")\n",
    "\n",
    "# Start the optimization process\n",
    "optimizer.maximize(init_points=5, n_iter=25)"
   ],
   "id": "8a858f44bc7bf2d1",
   "outputs": [
    {
     "name": "stdout",
     "output_type": "stream",
     "text": [
      "|   iter    |  target   |     C     | max_iter  |\n",
      "-------------------------------------------------\n",
      "| \u001B[39m1        \u001B[39m | \u001B[39m0.8146   \u001B[39m | \u001B[39m3.752    \u001B[39m | \u001B[39m955.6    \u001B[39m |\n",
      "| \u001B[39m2        \u001B[39m | \u001B[39m0.8126   \u001B[39m | \u001B[39m7.323    \u001B[39m | \u001B[39m638.8    \u001B[39m |\n",
      "| \u001B[39m3        \u001B[39m | \u001B[39m0.8126   \u001B[39m | \u001B[39m1.569    \u001B[39m | \u001B[39m240.4    \u001B[39m |\n",
      "| \u001B[39m4        \u001B[39m | \u001B[39m0.8105   \u001B[39m | \u001B[39m0.5903   \u001B[39m | \u001B[39m879.6    \u001B[39m |\n",
      "| \u001B[39m5        \u001B[39m | \u001B[39m0.8105   \u001B[39m | \u001B[39m6.015    \u001B[39m | \u001B[39m737.3    \u001B[39m |\n",
      "| \u001B[39m6        \u001B[39m | \u001B[39m0.8105   \u001B[39m | \u001B[39m3.059    \u001B[39m | \u001B[39m956.3    \u001B[39m |\n",
      "| \u001B[39m7        \u001B[39m | \u001B[39m0.8126   \u001B[39m | \u001B[39m1.378    \u001B[39m | \u001B[39m240.5    \u001B[39m |\n",
      "| \u001B[39m8        \u001B[39m | \u001B[39m0.8105   \u001B[39m | \u001B[39m4.033    \u001B[39m | \u001B[39m955.4    \u001B[39m |\n",
      "| \u001B[39m9        \u001B[39m | \u001B[39m0.8126   \u001B[39m | \u001B[39m3.672    \u001B[39m | \u001B[39m955.7    \u001B[39m |\n",
      "| \u001B[39m10       \u001B[39m | \u001B[39m0.8126   \u001B[39m | \u001B[39m4.44     \u001B[39m | \u001B[39m820.0    \u001B[39m |\n",
      "| \u001B[39m11       \u001B[39m | \u001B[39m0.8105   \u001B[39m | \u001B[39m6.518    \u001B[39m | \u001B[39m418.6    \u001B[39m |\n",
      "| \u001B[39m12       \u001B[39m | \u001B[39m0.8105   \u001B[39m | \u001B[39m4.132    \u001B[39m | \u001B[39m770.8    \u001B[39m |\n",
      "| \u001B[39m13       \u001B[39m | \u001B[39m0.8105   \u001B[39m | \u001B[39m3.803    \u001B[39m | \u001B[39m955.6    \u001B[39m |\n",
      "| \u001B[39m14       \u001B[39m | \u001B[39m0.8105   \u001B[39m | \u001B[39m9.564    \u001B[39m | \u001B[39m436.2    \u001B[39m |\n",
      "| \u001B[39m15       \u001B[39m | \u001B[39m0.8126   \u001B[39m | \u001B[39m5.385    \u001B[39m | \u001B[39m391.8    \u001B[39m |\n",
      "| \u001B[39m16       \u001B[39m | \u001B[39m0.8105   \u001B[39m | \u001B[39m4.695    \u001B[39m | \u001B[39m657.0    \u001B[39m |\n",
      "| \u001B[39m17       \u001B[39m | \u001B[39m0.8105   \u001B[39m | \u001B[39m9.804    \u001B[39m | \u001B[39m763.5    \u001B[39m |\n",
      "| \u001B[39m18       \u001B[39m | \u001B[39m0.8105   \u001B[39m | \u001B[39m4.087    \u001B[39m | \u001B[39m267.1    \u001B[39m |\n",
      "| \u001B[39m19       \u001B[39m | \u001B[39m0.8105   \u001B[39m | \u001B[39m3.752    \u001B[39m | \u001B[39m955.6    \u001B[39m |\n",
      "| \u001B[39m20       \u001B[39m | \u001B[39m0.8105   \u001B[39m | \u001B[39m3.752    \u001B[39m | \u001B[39m955.6    \u001B[39m |\n",
      "| \u001B[39m21       \u001B[39m | \u001B[39m0.8126   \u001B[39m | \u001B[39m3.752    \u001B[39m | \u001B[39m955.6    \u001B[39m |\n",
      "| \u001B[39m22       \u001B[39m | \u001B[39m0.8105   \u001B[39m | \u001B[39m7.421    \u001B[39m | \u001B[39m184.2    \u001B[39m |\n",
      "| \u001B[39m23       \u001B[39m | \u001B[39m0.8105   \u001B[39m | \u001B[39m3.752    \u001B[39m | \u001B[39m955.6    \u001B[39m |\n",
      "| \u001B[39m24       \u001B[39m | \u001B[39m0.8044   \u001B[39m | \u001B[39m3.752    \u001B[39m | \u001B[39m955.6    \u001B[39m |\n",
      "| \u001B[39m25       \u001B[39m | \u001B[39m0.8126   \u001B[39m | \u001B[39m9.689    \u001B[39m | \u001B[39m110.1    \u001B[39m |\n",
      "| \u001B[39m26       \u001B[39m | \u001B[39m0.8105   \u001B[39m | \u001B[39m3.423    \u001B[39m | \u001B[39m627.8    \u001B[39m |\n",
      "| \u001B[39m27       \u001B[39m | \u001B[39m0.8105   \u001B[39m | \u001B[39m7.224    \u001B[39m | \u001B[39m194.9    \u001B[39m |\n",
      "| \u001B[39m28       \u001B[39m | \u001B[39m0.8126   \u001B[39m | \u001B[39m3.97     \u001B[39m | \u001B[39m596.7    \u001B[39m |\n",
      "| \u001B[39m29       \u001B[39m | \u001B[39m0.8064   \u001B[39m | \u001B[39m0.952    \u001B[39m | \u001B[39m185.0    \u001B[39m |\n",
      "| \u001B[39m30       \u001B[39m | \u001B[39m0.8126   \u001B[39m | \u001B[39m8.681    \u001B[39m | \u001B[39m367.6    \u001B[39m |\n",
      "=================================================\n"
     ]
    }
   ],
   "execution_count": 19
  },
  {
   "metadata": {
    "ExecuteTime": {
     "end_time": "2024-07-31T19:58:04.045789Z",
     "start_time": "2024-07-31T19:58:04.031871Z"
    }
   },
   "cell_type": "code",
   "source": [
    "best_params = optimizer.max['params']\n",
    "best_model = LogisticRegression(\n",
    "    C=best_params['C'],\n",
    "    max_iter=int(best_params['max_iter']),\n",
    "    random_state=42,\n",
    "    solver='liblinear'\n",
    ")\n",
    "best_model.fit(X_train, y_train)\n",
    "y_pred = best_model.predict(X_test)\n",
    "accuracy = accuracy_score(y_test, y_pred)\n",
    "print(f\"Optimized Logistic Regression Accuracy: {accuracy}\")\n"
   ],
   "id": "2e7259c252f8917f",
   "outputs": [
    {
     "name": "stdout",
     "output_type": "stream",
     "text": [
      "Optimized Logistic Regression Accuracy: 0.7886178861788617\n"
     ]
    }
   ],
   "execution_count": 20
  },
  {
   "metadata": {},
   "cell_type": "code",
   "outputs": [],
   "execution_count": null,
   "source": "",
   "id": "f4a5a09c07014282"
  }
 ],
 "metadata": {
  "kernelspec": {
   "display_name": "Python 3",
   "language": "python",
   "name": "python3"
  },
  "language_info": {
   "codemirror_mode": {
    "name": "ipython",
    "version": 2
   },
   "file_extension": ".py",
   "mimetype": "text/x-python",
   "name": "python",
   "nbconvert_exporter": "python",
   "pygments_lexer": "ipython2",
   "version": "2.7.6"
  }
 },
 "nbformat": 4,
 "nbformat_minor": 5
}
