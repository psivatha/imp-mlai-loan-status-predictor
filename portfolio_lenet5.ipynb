{
 "cells": [
  {
   "cell_type": "code",
   "id": "initial_id",
   "metadata": {
    "collapsed": true,
    "ExecuteTime": {
     "end_time": "2024-08-05T07:35:40.792730Z",
     "start_time": "2024-08-05T07:35:37.059821Z"
    }
   },
   "source": [
    "import warnings\n",
    "\n",
    "import torch\n",
    "import torch.nn as nn\n",
    "import torch.optim as optim\n",
    "from torch.utils.data import DataLoader, Dataset\n",
    "import torch.nn.functional as F\n",
    "from sklearn.metrics import accuracy_score\n",
    "\n",
    "from utils import preprocess_data"
   ],
   "outputs": [],
   "execution_count": 3
  },
  {
   "metadata": {
    "ExecuteTime": {
     "end_time": "2024-08-05T07:35:40.818955Z",
     "start_time": "2024-08-05T07:35:40.794962Z"
    }
   },
   "cell_type": "code",
   "source": [
    "warnings.filterwarnings(\"ignore\")\n",
    "\n",
    "X_train, X_test, y_train, y_test, train_df, test_df = preprocess_data(standardise=True)"
   ],
   "id": "56a63fb9ef0947a3",
   "outputs": [],
   "execution_count": 4
  },
  {
   "metadata": {
    "ExecuteTime": {
     "end_time": "2024-08-05T07:35:40.833796Z",
     "start_time": "2024-08-05T07:35:40.820413Z"
    }
   },
   "cell_type": "code",
   "source": [
    "# Customise the data to be fed in terms of tensors\n",
    "class LoanDataset(Dataset):\n",
    "    def __init__(self, X, y):\n",
    "        self.X = torch.tensor(X, dtype=torch.float32)\n",
    "        self.y = torch.tensor(y.values, dtype=torch.long)\n",
    "\n",
    "    def __len__(self):\n",
    "        return len(self.y)\n",
    "\n",
    "    def __getitem__(self, idx):\n",
    "        return self.X[idx], self.y[idx]\n",
    "\n",
    "train_dataset = LoanDataset(X_train, y_train)\n",
    "test_dataset = LoanDataset(X_test, y_test)"
   ],
   "id": "fa48f68a08d7ae7",
   "outputs": [],
   "execution_count": 5
  },
  {
   "metadata": {
    "ExecuteTime": {
     "end_time": "2024-08-05T07:35:43.197761Z",
     "start_time": "2024-08-05T07:35:43.193626Z"
    }
   },
   "cell_type": "code",
   "source": [
    "train_loader = DataLoader(train_dataset, batch_size=32, shuffle=True)\n",
    "test_loader = DataLoader(test_dataset, batch_size=32, shuffle=False)"
   ],
   "id": "858cc831d6556d91",
   "outputs": [],
   "execution_count": 6
  },
  {
   "metadata": {
    "ExecuteTime": {
     "end_time": "2024-08-05T07:35:44.057290Z",
     "start_time": "2024-08-05T07:35:44.044577Z"
    }
   },
   "cell_type": "code",
   "source": [
    "class TabularNet(nn.Module):\n",
    "    def __init__(self, name=None):\n",
    "        super(TabularNet, self).__init__()\n",
    "        if name:\n",
    "            self.name = name\n",
    "        self.fc1 = nn.Linear(13, 128)\n",
    "        self.fc2 = nn.Linear(128, 64)\n",
    "        self.fc3 = nn.Linear(64, 32)\n",
    "        self.fc4 = nn.Linear(32, 2)  # Output layer for binary classification\n",
    "\n",
    "        # Compute the total number of parameters\n",
    "        total_params = sum(p.numel() for p in self.parameters() if p.requires_grad)\n",
    "        print(self.name + ': total params:', total_params)\n",
    "\n",
    "    def forward(self, x):\n",
    "        x = F.relu(self.fc1(x))\n",
    "        x = F.relu(self.fc2(x))\n",
    "        x = F.relu(self.fc3(x))\n",
    "        x = self.fc4(x)\n",
    "        return x\n",
    "\n",
    "net = TabularNet(name='TabularNet')"
   ],
   "id": "a3a38e167af0c72b",
   "outputs": [
    {
     "name": "stdout",
     "output_type": "stream",
     "text": [
      "TabularNet: total params: 12194\n"
     ]
    }
   ],
   "execution_count": 7
  },
  {
   "metadata": {
    "ExecuteTime": {
     "end_time": "2024-08-05T07:35:47.936327Z",
     "start_time": "2024-08-05T07:35:45.512737Z"
    }
   },
   "cell_type": "code",
   "source": [
    "def train_model(model, train_loader, criterion, optimizer, num_epochs=25):\n",
    "    model.train()\n",
    "    for epoch in range(num_epochs):\n",
    "        running_loss = 0.0\n",
    "        for inputs, labels in train_loader:\n",
    "            optimizer.zero_grad()\n",
    "            outputs = model(inputs)\n",
    "            loss = criterion(outputs, labels)\n",
    "            loss.backward()\n",
    "            optimizer.step()\n",
    "            running_loss += loss.item()\n",
    "        print(f'Epoch [{epoch+1}/{num_epochs}], Loss: {running_loss/len(train_loader):.4f}')\n",
    "\n",
    "def evaluate_model(model, test_loader):\n",
    "    model.eval()\n",
    "    all_preds = []\n",
    "    with torch.no_grad():\n",
    "        for inputs, labels in test_loader:\n",
    "            outputs = model(inputs)\n",
    "            _, preds = torch.max(outputs, 1)\n",
    "            all_preds.extend(preds.cpu().numpy())\n",
    "    return all_preds\n",
    "\n",
    "criterion = nn.CrossEntropyLoss()\n",
    "optimizer = optim.Adam(net.parameters(), lr=0.001)\n",
    "\n",
    "train_model(net, train_loader, criterion, optimizer, num_epochs=50)\n"
   ],
   "id": "33a591ce0a8d04f2",
   "outputs": [
    {
     "name": "stdout",
     "output_type": "stream",
     "text": [
      "Epoch [1/50], Loss: 0.6352\n",
      "Epoch [2/50], Loss: 0.5601\n",
      "Epoch [3/50], Loss: 0.4787\n",
      "Epoch [4/50], Loss: 0.4445\n",
      "Epoch [5/50], Loss: 0.4419\n",
      "Epoch [6/50], Loss: 0.4379\n",
      "Epoch [7/50], Loss: 0.4105\n",
      "Epoch [8/50], Loss: 0.4065\n",
      "Epoch [9/50], Loss: 0.3904\n",
      "Epoch [10/50], Loss: 0.3887\n",
      "Epoch [11/50], Loss: 0.3905\n",
      "Epoch [12/50], Loss: 0.3638\n",
      "Epoch [13/50], Loss: 0.3617\n",
      "Epoch [14/50], Loss: 0.3536\n",
      "Epoch [15/50], Loss: 0.3390\n",
      "Epoch [16/50], Loss: 0.3455\n",
      "Epoch [17/50], Loss: 0.3311\n",
      "Epoch [18/50], Loss: 0.3268\n",
      "Epoch [19/50], Loss: 0.3130\n",
      "Epoch [20/50], Loss: 0.3119\n",
      "Epoch [21/50], Loss: 0.3087\n",
      "Epoch [22/50], Loss: 0.3103\n",
      "Epoch [23/50], Loss: 0.2806\n",
      "Epoch [24/50], Loss: 0.2770\n",
      "Epoch [25/50], Loss: 0.2605\n",
      "Epoch [26/50], Loss: 0.2731\n",
      "Epoch [27/50], Loss: 0.2608\n",
      "Epoch [28/50], Loss: 0.2513\n",
      "Epoch [29/50], Loss: 0.2345\n",
      "Epoch [30/50], Loss: 0.2438\n",
      "Epoch [31/50], Loss: 0.2359\n",
      "Epoch [32/50], Loss: 0.2312\n",
      "Epoch [33/50], Loss: 0.2179\n",
      "Epoch [34/50], Loss: 0.2113\n",
      "Epoch [35/50], Loss: 0.2044\n",
      "Epoch [36/50], Loss: 0.1935\n",
      "Epoch [37/50], Loss: 0.1862\n",
      "Epoch [38/50], Loss: 0.1779\n",
      "Epoch [39/50], Loss: 0.1698\n",
      "Epoch [40/50], Loss: 0.1761\n",
      "Epoch [41/50], Loss: 0.1838\n",
      "Epoch [42/50], Loss: 0.1610\n",
      "Epoch [43/50], Loss: 0.1551\n",
      "Epoch [44/50], Loss: 0.1550\n",
      "Epoch [45/50], Loss: 0.1518\n",
      "Epoch [46/50], Loss: 0.1382\n",
      "Epoch [47/50], Loss: 0.1395\n",
      "Epoch [48/50], Loss: 0.1233\n",
      "Epoch [49/50], Loss: 0.1136\n",
      "Epoch [50/50], Loss: 0.1182\n"
     ]
    }
   ],
   "execution_count": 8
  },
  {
   "metadata": {
    "ExecuteTime": {
     "end_time": "2024-08-05T07:35:51.224713Z",
     "start_time": "2024-08-05T07:35:51.212053Z"
    }
   },
   "cell_type": "code",
   "source": [
    "y_pred = evaluate_model(net, test_loader)\n",
    "accuracy = accuracy_score(y_test, y_pred)\n",
    "print(f\"Accuracy: {accuracy:.4f}\")\n"
   ],
   "id": "ea9fb7e0ba2e95a4",
   "outputs": [
    {
     "name": "stdout",
     "output_type": "stream",
     "text": [
      "Accuracy: 0.7073\n"
     ]
    }
   ],
   "execution_count": 9
  },
  {
   "metadata": {},
   "cell_type": "code",
   "outputs": [],
   "execution_count": null,
   "source": "",
   "id": "cda5de324a527da"
  }
 ],
 "metadata": {
  "kernelspec": {
   "display_name": "Python 3",
   "language": "python",
   "name": "python3"
  },
  "language_info": {
   "codemirror_mode": {
    "name": "ipython",
    "version": 2
   },
   "file_extension": ".py",
   "mimetype": "text/x-python",
   "name": "python",
   "nbconvert_exporter": "python",
   "pygments_lexer": "ipython2",
   "version": "2.7.6"
  }
 },
 "nbformat": 4,
 "nbformat_minor": 5
}
