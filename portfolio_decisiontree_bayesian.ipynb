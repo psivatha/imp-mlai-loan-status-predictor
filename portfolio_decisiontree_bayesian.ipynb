{
 "cells": [
  {
   "cell_type": "code",
   "id": "initial_id",
   "metadata": {
    "collapsed": true,
    "ExecuteTime": {
     "end_time": "2024-08-05T14:33:40.237494Z",
     "start_time": "2024-08-05T14:33:40.234107Z"
    }
   },
   "source": [
    "import warnings\n",
    "\n",
    "import numpy as np\n",
    "import pandas as pd\n",
    "from sklearn.metrics import accuracy_score\n",
    "from sklearn.metrics import classification_report\n",
    "from sklearn.model_selection import cross_val_score\n",
    "from sklearn.tree import DecisionTreeClassifier\n",
    "\n",
    "from utils import preprocess_data, bayesian_optimisation, write_new_data_file\n",
    "\n",
    "warnings.filterwarnings(\"ignore\")"
   ],
   "outputs": [],
   "execution_count": 9
  },
  {
   "metadata": {
    "ExecuteTime": {
     "end_time": "2024-08-05T14:13:51.834483Z",
     "start_time": "2024-08-05T14:13:51.810081Z"
    }
   },
   "cell_type": "code",
   "source": "X_train, X_test, y_train, y_test, train_df, test_df = preprocess_data(standardise=False)",
   "id": "35e17f079947b4ee",
   "outputs": [],
   "execution_count": 2
  },
  {
   "metadata": {},
   "cell_type": "markdown",
   "source": "Optimise the hyperparameters of `Decision Tree` by using `cross-validation` to evaluate different configurations",
   "id": "18cc461854b1e71b"
  },
  {
   "metadata": {
    "ExecuteTime": {
     "end_time": "2024-08-05T14:13:51.839671Z",
     "start_time": "2024-08-05T14:13:51.835681Z"
    }
   },
   "cell_type": "code",
   "source": [
    "def optimise_decision_tree(criterion, splitter, max_depth, min_samples_split, min_samples_leaf):\n",
    "    \"\"\"\n",
    "    Returns the accuracy based and default 5-fold cross validation score of decision trees of different parameters\n",
    "    See https://scikit-learn.org/stable/modules/generated/sklearn.tree.DecisionTreeClassifier.html for more details.\n",
    "    \"\"\"\n",
    "    criterion_map = {0: 'gini', 1: 'entropy'}\n",
    "    splitter_map = {0: 'best', 1: 'random'}\n",
    "\n",
    "    model = DecisionTreeClassifier(\n",
    "        criterion=criterion_map[int(criterion)],\n",
    "        splitter=splitter_map[int(splitter)],\n",
    "        max_depth=int(max_depth),\n",
    "        min_samples_split=int(min_samples_split),\n",
    "        min_samples_leaf=int(min_samples_leaf),\n",
    "        random_state=42\n",
    "    )\n",
    "\n",
    "    return cross_val_score(model, X_train, y_train, cv=5, scoring='accuracy').mean()\n"
   ],
   "id": "289538fd078d2d04",
   "outputs": [],
   "execution_count": 3
  },
  {
   "metadata": {
    "ExecuteTime": {
     "end_time": "2024-08-05T14:13:51.978716Z",
     "start_time": "2024-08-05T14:13:51.841240Z"
    }
   },
   "cell_type": "code",
   "source": [
    "param_space = np.array([\n",
    "    (0, 1),  # criterion: 'gini' or 'entropy'\n",
    "    (0, 1),  # splitter: 'best' or 'random'\n",
    "    (1, 20),  # max_depth\n",
    "    (2, 20),  # min_samples_split\n",
    "    (1, 20)   # min_samples_leaf\n",
    "])\n",
    "\n",
    "n_iters = 25\n",
    "initial_samples = 5\n",
    "\n",
    "# Initial random samples\n",
    "x0 = np.random.uniform(param_space[:, 0], param_space[:, 1], size=(initial_samples, param_space.shape[0]))\n",
    "y0 = np.array([optimise_decision_tree(*params) for params in x0])\n",
    "\n",
    "gp_params = {\"alpha\": 1e-6}"
   ],
   "id": "87e94daaa50354a0",
   "outputs": [],
   "execution_count": 4
  },
  {
   "metadata": {},
   "cell_type": "markdown",
   "source": "Carry out the actual `Bayesian Optimisation`",
   "id": "30799d967109d4da"
  },
  {
   "metadata": {
    "ExecuteTime": {
     "end_time": "2024-08-05T14:14:15.850118Z",
     "start_time": "2024-08-05T14:13:51.981537Z"
    }
   },
   "cell_type": "code",
   "source": [
    "X_sample, Y_sample, gpr = bayesian_optimisation(n_iters, optimise_decision_tree, param_space, x0, y0.reshape(-1, 1), gp_params)\n",
    "\n",
    "# Best parameters\n",
    "best_idx = np.argmax(Y_sample)\n",
    "best_params = X_sample[best_idx]\n",
    "best_accuracy = Y_sample[best_idx]\n",
    "\n",
    "print(f\"Best accuracy: {best_accuracy}\")"
   ],
   "id": "5421f99fad2357fd",
   "outputs": [
    {
     "name": "stdout",
     "output_type": "stream",
     "text": [
      "Best accuracy: [0.82275819]\n"
     ]
    }
   ],
   "execution_count": 5
  },
  {
   "metadata": {},
   "cell_type": "markdown",
   "source": "Create the model with the optimised hyperparameters and save the predictions to the test data to be validated with the rest of the models in the project\n",
   "id": "bf912f270d0e3427"
  },
  {
   "metadata": {
    "ExecuteTime": {
     "end_time": "2024-08-05T14:14:15.867503Z",
     "start_time": "2024-08-05T14:14:15.852357Z"
    }
   },
   "cell_type": "code",
   "source": [
    "best_model = DecisionTreeClassifier(\n",
    "    criterion=['gini', 'entropy'][int(best_params[0])],\n",
    "    splitter=['best', 'random'][int(best_params[1])],\n",
    "    max_depth=int(best_params[2]),\n",
    "    min_samples_split=int(best_params[3]),\n",
    "    min_samples_leaf=int(best_params[4]),\n",
    "    random_state=42\n",
    ")\n",
    "# Save the file for any future use as test datax\n",
    "target_filename = \"data/loan_sanction_test_with_predictions_decision_tree.csv\"\n",
    "write_new_data_file(best_model, X_train, y_train, test_df, target_filename)"
   ],
   "id": "375890a0fc65fc54",
   "outputs": [
    {
     "name": "stdout",
     "output_type": "stream",
     "text": [
      "Predictions have been saved to data/loan_sanction_test_with_predictions_decision_tree.csv.\n"
     ]
    }
   ],
   "execution_count": 6
  },
  {
   "metadata": {},
   "cell_type": "markdown",
   "source": "Cross-evaluate the model against the validation data file created using other models in this project",
   "id": "278541bc3d69f788"
  },
  {
   "metadata": {
    "ExecuteTime": {
     "end_time": "2024-08-05T14:35:13.091440Z",
     "start_time": "2024-08-05T14:35:12.982189Z"
    }
   },
   "cell_type": "code",
   "source": [
    "for algo, filename in {\n",
    "    \"CNN\" : 'data/loan_sanction_test_with_predictions_cnn.csv',\n",
    "    \"KNN\": 'data/loan_sanction_test_with_predictions_knn.csv',\n",
    "    \"LeNet5\": 'data/loan_sanction_test_with_predictions_lenet5.csv',\n",
    "    \"LR\": 'data/loan_sanction_test_with_predictions_lr.csv',\n",
    "\n",
    "}.items():\n",
    "    test_df_new = pd.read_csv(filename)\n",
    "    X_new = test_df_new.drop(columns=['Loan_ID', 'Loan_Status'])\n",
    "    y_new = test_df_new['Loan_Status']\n",
    "    y_pred = best_model.predict(X_new)\n",
    "    y_pred = (y_pred > 0.5).astype(int)  # Convert probabilities to class labels\n",
    "\n",
    "    lr_accuracy = accuracy_score(y_new, y_pred)\n",
    "    lr_report = classification_report(y_new, y_pred)\n",
    "    print(f'DT Performance for {algo} produced predictions {lr_accuracy}')"
   ],
   "id": "218c899ba4f2d422",
   "outputs": [
    {
     "name": "stdout",
     "output_type": "stream",
     "text": [
      "DT Performance for CNN produced predictions 0.2125340599455041\n",
      "DT Performance for KNN produced predictions 0.4904632152588556\n",
      "DT Performance for LeNet5 produced predictions 0.9482288828337875\n",
      "DT Performance for LR produced predictions 0.9482288828337875\n"
     ]
    }
   ],
   "execution_count": 13
  },
  {
   "metadata": {},
   "cell_type": "code",
   "outputs": [],
   "execution_count": null,
   "source": "",
   "id": "e4370b16c8f30192"
  }
 ],
 "metadata": {
  "kernelspec": {
   "display_name": "Python 3",
   "language": "python",
   "name": "python3"
  },
  "language_info": {
   "codemirror_mode": {
    "name": "ipython",
    "version": 2
   },
   "file_extension": ".py",
   "mimetype": "text/x-python",
   "name": "python",
   "nbconvert_exporter": "python",
   "pygments_lexer": "ipython2",
   "version": "2.7.6"
  }
 },
 "nbformat": 4,
 "nbformat_minor": 5
}
