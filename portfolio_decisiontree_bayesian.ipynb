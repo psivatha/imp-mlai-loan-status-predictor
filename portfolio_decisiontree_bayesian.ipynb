{
 "cells": [
  {
   "cell_type": "code",
   "id": "initial_id",
   "metadata": {
    "collapsed": true,
    "ExecuteTime": {
     "end_time": "2024-08-04T13:31:55.555556Z",
     "start_time": "2024-08-04T13:31:55.550912Z"
    }
   },
   "source": [
    "import warnings\n",
    "\n",
    "import matplotlib.pyplot as plt\n",
    "from bayes_opt import BayesianOptimization\n",
    "from sklearn.metrics import accuracy_score, classification_report, confusion_matrix, ConfusionMatrixDisplay\n",
    "from sklearn.model_selection import cross_val_score\n",
    "from sklearn.tree import DecisionTreeClassifier\n",
    "\n",
    "from utils import preprocess_data\n",
    "\n",
    "warnings.filterwarnings(\"ignore\")"
   ],
   "outputs": [],
   "execution_count": 56
  },
  {
   "metadata": {
    "ExecuteTime": {
     "end_time": "2024-08-04T13:31:56.189547Z",
     "start_time": "2024-08-04T13:31:56.157981Z"
    }
   },
   "cell_type": "code",
   "source": "X_train, X_test, y_train, y_test, train_df, test_df = preprocess_data(standardise=False)",
   "id": "35e17f079947b4ee",
   "outputs": [],
   "execution_count": 57
  },
  {
   "metadata": {
    "ExecuteTime": {
     "end_time": "2024-08-04T13:31:56.691894Z",
     "start_time": "2024-08-04T13:31:56.688279Z"
    }
   },
   "cell_type": "code",
   "source": [
    "def optimize_decision_tree(criterion, splitter, max_depth, min_samples_split, min_samples_leaf):\n",
    "    \"\"\"\n",
    "    Optimize Decision Tree using Bayesian optimization\n",
    "    \"\"\"\n",
    "    criterion_map = {0: 'gini', 1: 'entropy'} # Mapping numerical values to categorical values\n",
    "    splitter_map = {0: 'best', 1: 'random'}\n",
    "    model = DecisionTreeClassifier(\n",
    "        criterion=criterion_map[int(criterion)],\n",
    "        splitter=splitter_map[int(splitter)],\n",
    "        max_depth=int(max_depth),\n",
    "        min_samples_split=int(min_samples_split),\n",
    "        min_samples_leaf=int(min_samples_leaf),\n",
    "        random_state=42\n",
    "    )\n",
    "    return cross_val_score(model, X_train, y_train, cv=5, scoring='accuracy').mean()\n"
   ],
   "id": "289538fd078d2d04",
   "outputs": [],
   "execution_count": 58
  },
  {
   "metadata": {
    "ExecuteTime": {
     "end_time": "2024-08-04T13:31:57.479385Z",
     "start_time": "2024-08-04T13:31:57.474955Z"
    }
   },
   "cell_type": "code",
   "source": [
    "param_space = {\n",
    "    'criterion': (0, 1),  # 0: 'gini', 1: 'entropy'\n",
    "    'splitter': (0, 1),  # 0: 'best', 1: 'random'\n",
    "    'max_depth': (1, 20),\n",
    "    'min_samples_split': (2, 20),\n",
    "    'min_samples_leaf': (1, 20)\n",
    "}\n",
    "\n",
    "optimizer = BayesianOptimization(\n",
    "    f=optimize_decision_tree,\n",
    "    pbounds=param_space,\n",
    "    random_state=42\n",
    ")\n",
    "\n",
    "# Start the optimization process\n",
    "optimizer.maximize(init_points=5, n_iter=25)"
   ],
   "id": "87e94daaa50354a0",
   "outputs": [],
   "execution_count": 59
  },
  {
   "metadata": {
    "ExecuteTime": {
     "end_time": "2024-08-04T13:31:58.009255Z",
     "start_time": "2024-08-04T13:31:58.004475Z"
    }
   },
   "cell_type": "code",
   "source": [
    "best_params = optimizer.max['params']\n",
    "best_model = DecisionTreeClassifier(\n",
    "    criterion=['gini', 'entropy'][int(best_params['criterion'])],\n",
    "    splitter=['best', 'random'][int(best_params['splitter'])],\n",
    "    max_depth=int(best_params['max_depth']),\n",
    "    min_samples_split=int(best_params['min_samples_split']),\n",
    "    min_samples_leaf=int(best_params['min_samples_leaf']),\n",
    "    random_state=42\n",
    ")\n",
    "best_model.fit(X_train, y_train)\n",
    "y_pred = best_model.predict(X_test)\n",
    "accuracy = accuracy_score(y_test, y_pred)\n",
    "print(f\"Optimized Decision Tree Accuracy: {accuracy}\")"
   ],
   "id": "5421f99fad2357fd",
   "outputs": [],
   "execution_count": 60
  },
  {
   "metadata": {
    "ExecuteTime": {
     "end_time": "2024-08-04T13:31:58.559393Z",
     "start_time": "2024-08-04T13:31:58.553792Z"
    }
   },
   "cell_type": "code",
   "source": [
    "conf_matrix = confusion_matrix(y_test, y_pred)\n",
    "print(\"Confusion Matrix:\")\n",
    "print(conf_matrix)\n",
    "\n",
    "# Plot the confusion matrix\n",
    "disp = ConfusionMatrixDisplay(confusion_matrix=conf_matrix, display_labels=best_model.classes_)\n",
    "disp.plot()\n",
    "plt.show()"
   ],
   "id": "375890a0fc65fc54",
   "outputs": [],
   "execution_count": 61
  },
  {
   "metadata": {
    "ExecuteTime": {
     "end_time": "2024-08-04T13:32:00.016996Z",
     "start_time": "2024-08-04T13:31:59.868169Z"
    }
   },
   "cell_type": "code",
   "source": [
    "class_report = classification_report(y_test, y_pred)\n",
    "print(\"Classification Report:\")\n",
    "print(class_report)"
   ],
   "id": "5b85b3a9646e5b36",
   "outputs": [],
   "execution_count": 62
  },
  {
   "metadata": {
    "ExecuteTime": {
     "end_time": "2024-08-04T13:32:10.219842Z",
     "start_time": "2024-08-04T13:32:00.757857Z"
    }
   },
   "cell_type": "code",
   "source": [
    "X_test_final = test_df.drop(columns=['Loan_ID'])\n",
    "# Predict loan status using the trained Decision Tree model\n",
    "y_test_pred = best_model.predict(X_test_final)\n",
    "test_df['Loan_Status'] = ['Y' if pred == 1 else 'N' for pred in y_test_pred]\n",
    "# Save the file\n",
    "target_filename = \"data/loan_sanction_test_with_predictions_decision_tree.csv\"\n",
    "test_df.to_csv(target_filename, index=False)\n",
    "print(f\"Predictions have been saved to {target_filename}.\")"
   ],
   "id": "c85362b0569b19ce",
   "outputs": [
    {
     "name": "stdout",
     "output_type": "stream",
     "text": [
      "Best accuracy: [0.82275819]\n"
     ]
    }
   ],
   "execution_count": 63
  },
  {
   "metadata": {
    "ExecuteTime": {
     "end_time": "2024-08-04T13:32:14.624087Z",
     "start_time": "2024-08-04T13:32:14.605369Z"
    }
   },
   "cell_type": "code",
   "source": "",
   "id": "bead790f8af6b03f",
   "outputs": [
    {
     "name": "stdout",
     "output_type": "stream",
     "text": [
      "Predictions have been saved to data/loan_sanction_test_with_predictions_decision_tree.csv.\n"
     ]
    }
   ],
   "execution_count": 64
  }
 ],
 "metadata": {
  "kernelspec": {
   "display_name": "Python 3",
   "language": "python",
   "name": "python3"
  },
  "language_info": {
   "codemirror_mode": {
    "name": "ipython",
    "version": 2
   },
   "file_extension": ".py",
   "mimetype": "text/x-python",
   "name": "python",
   "nbconvert_exporter": "python",
   "pygments_lexer": "ipython2",
   "version": "2.7.6"
  }
 },
 "nbformat": 4,
 "nbformat_minor": 5
}
