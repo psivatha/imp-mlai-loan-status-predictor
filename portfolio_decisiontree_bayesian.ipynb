{
 "cells": [
  {
   "cell_type": "code",
   "id": "initial_id",
   "metadata": {
    "collapsed": true,
    "ExecuteTime": {
     "end_time": "2024-08-02T21:01:15.279909Z",
     "start_time": "2024-08-02T21:01:13.337240Z"
    }
   },
   "source": [
    "import warnings\n",
    "\n",
    "import matplotlib.pyplot as plt\n",
    "from bayes_opt import BayesianOptimization\n",
    "from sklearn.metrics import accuracy_score, classification_report, confusion_matrix, ConfusionMatrixDisplay\n",
    "from sklearn.model_selection import cross_val_score\n",
    "from sklearn.tree import DecisionTreeClassifier\n",
    "\n",
    "from utils import preprocess_data\n",
    "\n",
    "warnings.filterwarnings(\"ignore\")"
   ],
   "outputs": [],
   "execution_count": 1
  },
  {
   "metadata": {
    "ExecuteTime": {
     "end_time": "2024-08-02T21:01:23.584894Z",
     "start_time": "2024-08-02T21:01:23.559053Z"
    }
   },
   "cell_type": "code",
   "source": "X_train, X_test, y_train, y_test, train_df, test_df = preprocess_data(standardise=False)",
   "id": "35e17f079947b4ee",
   "outputs": [],
   "execution_count": 3
  },
  {
   "metadata": {
    "ExecuteTime": {
     "end_time": "2024-08-02T21:01:24.803475Z",
     "start_time": "2024-08-02T21:01:24.798122Z"
    }
   },
   "cell_type": "code",
   "source": [
    "def optimize_decision_tree(criterion, splitter, max_depth, min_samples_split, min_samples_leaf):\n",
    "    \"\"\"\n",
    "    Optimize Decision Tree using Bayesian optimization\n",
    "    \"\"\"\n",
    "    criterion_map = {0: 'gini', 1: 'entropy'} # Mapping numerical values to categorical values\n",
    "    splitter_map = {0: 'best', 1: 'random'}\n",
    "    model = DecisionTreeClassifier(\n",
    "        criterion=criterion_map[int(criterion)],\n",
    "        splitter=splitter_map[int(splitter)],\n",
    "        max_depth=int(max_depth),\n",
    "        min_samples_split=int(min_samples_split),\n",
    "        min_samples_leaf=int(min_samples_leaf),\n",
    "        random_state=42\n",
    "    )\n",
    "    return cross_val_score(model, X_train, y_train, cv=5, scoring='accuracy').mean()\n"
   ],
   "id": "289538fd078d2d04",
   "outputs": [],
   "execution_count": 4
  },
  {
   "metadata": {
    "ExecuteTime": {
     "end_time": "2024-08-02T21:01:30.385245Z",
     "start_time": "2024-08-02T21:01:25.521342Z"
    }
   },
   "cell_type": "code",
   "source": [
    "param_space = {\n",
    "    'criterion': (0, 1),  # 0: 'gini', 1: 'entropy'\n",
    "    'splitter': (0, 1),  # 0: 'best', 1: 'random'\n",
    "    'max_depth': (1, 20),\n",
    "    'min_samples_split': (2, 20),\n",
    "    'min_samples_leaf': (1, 20)\n",
    "}\n",
    "\n",
    "optimizer = BayesianOptimization(\n",
    "    f=optimize_decision_tree,\n",
    "    pbounds=param_space,\n",
    "    random_state=42\n",
    ")\n",
    "\n",
    "# Start the optimization process\n",
    "optimizer.maximize(init_points=5, n_iter=25)"
   ],
   "id": "87e94daaa50354a0",
   "outputs": [
    {
     "name": "stdout",
     "output_type": "stream",
     "text": [
      "|   iter    |  target   | criterion | max_depth | min_sa... | min_sa... | splitter  |\n",
      "-------------------------------------------------------------------------------------\n",
      "| \u001B[39m1        \u001B[39m | \u001B[39m0.8004   \u001B[39m | \u001B[39m0.3745   \u001B[39m | \u001B[39m19.06    \u001B[39m | \u001B[39m14.91    \u001B[39m | \u001B[39m12.78    \u001B[39m | \u001B[39m0.156    \u001B[39m |\n",
      "| \u001B[35m2        \u001B[39m | \u001B[35m0.8228   \u001B[39m | \u001B[35m0.156    \u001B[39m | \u001B[35m2.104    \u001B[39m | \u001B[35m17.46    \u001B[39m | \u001B[35m12.82    \u001B[39m | \u001B[35m0.7081   \u001B[39m |\n",
      "| \u001B[39m3        \u001B[39m | \u001B[39m0.8024   \u001B[39m | \u001B[39m0.02058  \u001B[39m | \u001B[39m19.43    \u001B[39m | \u001B[39m16.82    \u001B[39m | \u001B[39m5.822    \u001B[39m | \u001B[39m0.1818   \u001B[39m |\n",
      "| \u001B[39m4        \u001B[39m | \u001B[39m0.8126   \u001B[39m | \u001B[39m0.1834   \u001B[39m | \u001B[39m6.781    \u001B[39m | \u001B[39m10.97    \u001B[39m | \u001B[39m9.775    \u001B[39m | \u001B[39m0.2912   \u001B[39m |\n",
      "| \u001B[39m5        \u001B[39m | \u001B[39m0.8105   \u001B[39m | \u001B[39m0.6119   \u001B[39m | \u001B[39m3.65     \u001B[39m | \u001B[39m6.551    \u001B[39m | \u001B[39m8.595    \u001B[39m | \u001B[39m0.4561   \u001B[39m |\n",
      "| \u001B[39m6        \u001B[39m | \u001B[39m0.8146   \u001B[39m | \u001B[39m1.0      \u001B[39m | \u001B[39m1.0      \u001B[39m | \u001B[39m20.0     \u001B[39m | \u001B[39m20.0     \u001B[39m | \u001B[39m0.0      \u001B[39m |\n",
      "| \u001B[39m7        \u001B[39m | \u001B[39m0.8146   \u001B[39m | \u001B[39m0.0      \u001B[39m | \u001B[39m1.0      \u001B[39m | \u001B[39m20.0     \u001B[39m | \u001B[39m5.604    \u001B[39m | \u001B[39m1.0      \u001B[39m |\n",
      "| \u001B[39m8        \u001B[39m | \u001B[39m0.8146   \u001B[39m | \u001B[39m0.0      \u001B[39m | \u001B[39m1.0      \u001B[39m | \u001B[39m12.19    \u001B[39m | \u001B[39m16.69    \u001B[39m | \u001B[39m1.0      \u001B[39m |\n",
      "| \u001B[39m9        \u001B[39m | \u001B[39m0.8146   \u001B[39m | \u001B[39m0.0      \u001B[39m | \u001B[39m6.141    \u001B[39m | \u001B[39m20.0     \u001B[39m | \u001B[39m13.41    \u001B[39m | \u001B[39m1.0      \u001B[39m |\n",
      "| \u001B[39m10       \u001B[39m | \u001B[39m0.8146   \u001B[39m | \u001B[39m1.0      \u001B[39m | \u001B[39m1.0      \u001B[39m | \u001B[39m15.08    \u001B[39m | \u001B[39m10.1     \u001B[39m | \u001B[39m0.0      \u001B[39m |\n",
      "| \u001B[39m11       \u001B[39m | \u001B[39m0.8146   \u001B[39m | \u001B[39m1.0      \u001B[39m | \u001B[39m1.0      \u001B[39m | \u001B[39m20.0     \u001B[39m | \u001B[39m13.36    \u001B[39m | \u001B[39m0.0      \u001B[39m |\n",
      "| \u001B[39m12       \u001B[39m | \u001B[39m0.8146   \u001B[39m | \u001B[39m0.0      \u001B[39m | \u001B[39m3.891    \u001B[39m | \u001B[39m15.83    \u001B[39m | \u001B[39m14.69    \u001B[39m | \u001B[39m1.0      \u001B[39m |\n",
      "| \u001B[39m13       \u001B[39m | \u001B[39m0.8146   \u001B[39m | \u001B[39m0.0      \u001B[39m | \u001B[39m3.191    \u001B[39m | \u001B[39m18.1     \u001B[39m | \u001B[39m10.73    \u001B[39m | \u001B[39m1.0      \u001B[39m |\n",
      "| \u001B[39m14       \u001B[39m | \u001B[39m0.8146   \u001B[39m | \u001B[39m0.0      \u001B[39m | \u001B[39m1.0      \u001B[39m | \u001B[39m16.41    \u001B[39m | \u001B[39m13.57    \u001B[39m | \u001B[39m0.0      \u001B[39m |\n",
      "| \u001B[39m15       \u001B[39m | \u001B[39m0.8146   \u001B[39m | \u001B[39m0.9528   \u001B[39m | \u001B[39m2.872    \u001B[39m | \u001B[39m18.01    \u001B[39m | \u001B[39m13.33    \u001B[39m | \u001B[39m1.0      \u001B[39m |\n",
      "| \u001B[39m16       \u001B[39m | \u001B[39m0.8146   \u001B[39m | \u001B[39m0.0      \u001B[39m | \u001B[39m1.555    \u001B[39m | \u001B[39m17.77    \u001B[39m | \u001B[39m12.16    \u001B[39m | \u001B[39m0.5922   \u001B[39m |\n",
      "| \u001B[39m17       \u001B[39m | \u001B[39m0.8228   \u001B[39m | \u001B[39m0.117    \u001B[39m | \u001B[39m2.198    \u001B[39m | \u001B[39m17.06    \u001B[39m | \u001B[39m13.22    \u001B[39m | \u001B[39m0.6387   \u001B[39m |\n",
      "| \u001B[39m18       \u001B[39m | \u001B[39m0.8146   \u001B[39m | \u001B[39m0.0      \u001B[39m | \u001B[39m2.675    \u001B[39m | \u001B[39m16.85    \u001B[39m | \u001B[39m12.57    \u001B[39m | \u001B[39m1.0      \u001B[39m |\n",
      "| \u001B[39m19       \u001B[39m | \u001B[39m0.8146   \u001B[39m | \u001B[39m0.0      \u001B[39m | \u001B[39m1.958    \u001B[39m | \u001B[39m17.67    \u001B[39m | \u001B[39m13.47    \u001B[39m | \u001B[39m0.5174   \u001B[39m |\n",
      "| \u001B[39m20       \u001B[39m | \u001B[39m0.8228   \u001B[39m | \u001B[39m0.3321   \u001B[39m | \u001B[39m2.28     \u001B[39m | \u001B[39m17.63    \u001B[39m | \u001B[39m13.0     \u001B[39m | \u001B[39m0.8851   \u001B[39m |\n",
      "| \u001B[39m21       \u001B[39m | \u001B[39m0.8228   \u001B[39m | \u001B[39m0.6638   \u001B[39m | \u001B[39m2.034    \u001B[39m | \u001B[39m17.14    \u001B[39m | \u001B[39m12.99    \u001B[39m | \u001B[39m0.8098   \u001B[39m |\n",
      "| \u001B[39m22       \u001B[39m | \u001B[39m0.8228   \u001B[39m | \u001B[39m0.5626   \u001B[39m | \u001B[39m2.449    \u001B[39m | \u001B[39m17.26    \u001B[39m | \u001B[39m12.91    \u001B[39m | \u001B[39m0.2589   \u001B[39m |\n",
      "| \u001B[39m23       \u001B[39m | \u001B[39m0.8207   \u001B[39m | \u001B[39m0.7866   \u001B[39m | \u001B[39m2.401    \u001B[39m | \u001B[39m16.54    \u001B[39m | \u001B[39m13.45    \u001B[39m | \u001B[39m0.2901   \u001B[39m |\n",
      "| \u001B[39m24       \u001B[39m | \u001B[39m0.8228   \u001B[39m | \u001B[39m1.0      \u001B[39m | \u001B[39m2.271    \u001B[39m | \u001B[39m17.63    \u001B[39m | \u001B[39m12.3     \u001B[39m | \u001B[39m0.5797   \u001B[39m |\n",
      "| \u001B[39m25       \u001B[39m | \u001B[39m0.8146   \u001B[39m | \u001B[39m1.0      \u001B[39m | \u001B[39m1.97     \u001B[39m | \u001B[39m16.79    \u001B[39m | \u001B[39m12.32    \u001B[39m | \u001B[39m0.0      \u001B[39m |\n",
      "| \u001B[39m26       \u001B[39m | \u001B[39m0.8146   \u001B[39m | \u001B[39m1.0      \u001B[39m | \u001B[39m2.259    \u001B[39m | \u001B[39m18.42    \u001B[39m | \u001B[39m12.06    \u001B[39m | \u001B[39m1.0      \u001B[39m |\n",
      "| \u001B[39m27       \u001B[39m | \u001B[39m0.8228   \u001B[39m | \u001B[39m1.0      \u001B[39m | \u001B[39m2.714    \u001B[39m | \u001B[39m17.21    \u001B[39m | \u001B[39m12.65    \u001B[39m | \u001B[39m0.782    \u001B[39m |\n",
      "| \u001B[39m28       \u001B[39m | \u001B[39m0.8146   \u001B[39m | \u001B[39m0.408    \u001B[39m | \u001B[39m2.223    \u001B[39m | \u001B[39m16.4     \u001B[39m | \u001B[39m14.05    \u001B[39m | \u001B[39m1.0      \u001B[39m |\n",
      "| \u001B[39m29       \u001B[39m | \u001B[39m0.8207   \u001B[39m | \u001B[39m1.0      \u001B[39m | \u001B[39m3.384    \u001B[39m | \u001B[39m16.91    \u001B[39m | \u001B[39m13.1     \u001B[39m | \u001B[39m0.0      \u001B[39m |\n",
      "| \u001B[39m30       \u001B[39m | \u001B[39m0.8228   \u001B[39m | \u001B[39m1.0      \u001B[39m | \u001B[39m3.157    \u001B[39m | \u001B[39m17.65    \u001B[39m | \u001B[39m12.24    \u001B[39m | \u001B[39m0.05751  \u001B[39m |\n",
      "=====================================================================================\n"
     ]
    }
   ],
   "execution_count": 5
  },
  {
   "metadata": {
    "ExecuteTime": {
     "end_time": "2024-08-02T21:01:31.705653Z",
     "start_time": "2024-08-02T21:01:31.693336Z"
    }
   },
   "cell_type": "code",
   "source": [
    "best_params = optimizer.max['params']\n",
    "best_model = DecisionTreeClassifier(\n",
    "    criterion=['gini', 'entropy'][int(best_params['criterion'])],\n",
    "    splitter=['best', 'random'][int(best_params['splitter'])],\n",
    "    max_depth=int(best_params['max_depth']),\n",
    "    min_samples_split=int(best_params['min_samples_split']),\n",
    "    min_samples_leaf=int(best_params['min_samples_leaf']),\n",
    "    random_state=42\n",
    ")\n",
    "best_model.fit(X_train, y_train)\n",
    "y_pred = best_model.predict(X_test)\n",
    "accuracy = accuracy_score(y_test, y_pred)\n",
    "print(f\"Optimized Decision Tree Accuracy: {accuracy}\")"
   ],
   "id": "5421f99fad2357fd",
   "outputs": [
    {
     "name": "stdout",
     "output_type": "stream",
     "text": [
      "Optimized Decision Tree Accuracy: 0.7886178861788617\n"
     ]
    }
   ],
   "execution_count": 6
  },
  {
   "metadata": {
    "ExecuteTime": {
     "end_time": "2024-08-02T21:01:33.766132Z",
     "start_time": "2024-08-02T21:01:33.574240Z"
    }
   },
   "cell_type": "code",
   "source": [
    "conf_matrix = confusion_matrix(y_test, y_pred)\n",
    "print(\"Confusion Matrix:\")\n",
    "print(conf_matrix)\n",
    "\n",
    "# Plot the confusion matrix\n",
    "disp = ConfusionMatrixDisplay(confusion_matrix=conf_matrix, display_labels=best_model.classes_)\n",
    "disp.plot()\n",
    "plt.show()"
   ],
   "id": "375890a0fc65fc54",
   "outputs": [
    {
     "name": "stdout",
     "output_type": "stream",
     "text": [
      "Confusion Matrix:\n",
      "[[23 20]\n",
      " [ 6 74]]\n"
     ]
    },
    {
     "data": {
      "text/plain": [
       "<Figure size 640x480 with 2 Axes>"
      ],
      "image/png": "[encoded data removed]"
     },
     "metadata": {},
     "output_type": "display_data"
    }
   ],
   "execution_count": 7
  },
  {
   "metadata": {
    "ExecuteTime": {
     "end_time": "2024-08-02T21:01:34.935229Z",
     "start_time": "2024-08-02T21:01:34.922329Z"
    }
   },
   "cell_type": "code",
   "source": [
    "class_report = classification_report(y_test, y_pred)\n",
    "print(\"Classification Report:\")\n",
    "print(class_report)"
   ],
   "id": "5b85b3a9646e5b36",
   "outputs": [
    {
     "name": "stdout",
     "output_type": "stream",
     "text": [
      "Classification Report:\n",
      "              precision    recall  f1-score   support\n",
      "\n",
      "           0       0.79      0.53      0.64        43\n",
      "           1       0.79      0.93      0.85        80\n",
      "\n",
      "    accuracy                           0.79       123\n",
      "   macro avg       0.79      0.73      0.74       123\n",
      "weighted avg       0.79      0.79      0.78       123\n",
      "\n"
     ]
    }
   ],
   "execution_count": 8
  },
  {
   "metadata": {
    "ExecuteTime": {
     "end_time": "2024-08-02T21:01:36.220834Z",
     "start_time": "2024-08-02T21:01:36.202125Z"
    }
   },
   "cell_type": "code",
   "source": [
    "X_test_final = test_df.drop(columns=['Loan_ID'])\n",
    "# Predict loan status using the trained Decision Tree model\n",
    "y_test_pred = best_model.predict(X_test_final)\n",
    "test_df['Loan_Status'] = ['Y' if pred == 1 else 'N' for pred in y_test_pred]\n",
    "# Save the file\n",
    "target_filename = \"data/loan_sanction_test_with_predictions_decision_tree.csv\"\n",
    "test_df.to_csv(target_filename, index=False)\n",
    "print(f\"Predictions have been saved to {target_filename}.\")"
   ],
   "id": "c85362b0569b19ce",
   "outputs": [
    {
     "name": "stdout",
     "output_type": "stream",
     "text": [
      "Predictions have been saved to data/loan_sanction_test_with_predictions_decision_tree.csv.\n"
     ]
    }
   ],
   "execution_count": 9
  },
  {
   "metadata": {},
   "cell_type": "code",
   "outputs": [],
   "execution_count": null,
   "source": "",
   "id": "bead790f8af6b03f"
  }
 ],
 "metadata": {
  "kernelspec": {
   "display_name": "Python 3",
   "language": "python",
   "name": "python3"
  },
  "language_info": {
   "codemirror_mode": {
    "name": "ipython",
    "version": 2
   },
   "file_extension": ".py",
   "mimetype": "text/x-python",
   "name": "python",
   "nbconvert_exporter": "python",
   "pygments_lexer": "ipython2",
   "version": "2.7.6"
  }
 },
 "nbformat": 4,
 "nbformat_minor": 5
}
