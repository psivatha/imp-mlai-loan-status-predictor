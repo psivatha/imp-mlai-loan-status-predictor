{
 "cells": [
  {
   "cell_type": "code",
   "id": "initial_id",
   "metadata": {
    "collapsed": true,
    "ExecuteTime": {
     "end_time": "2024-08-05T08:50:58.851050Z",
     "start_time": "2024-08-05T08:50:58.848099Z"
    }
   },
   "source": [
    "import warnings\n",
    "\n",
    "import numpy as np\n",
    "from sklearn.model_selection import cross_val_score\n",
    "from sklearn.tree import DecisionTreeClassifier\n",
    "\n",
    "from utils import preprocess_data, bayesian_optimisation\n",
    "\n",
    "warnings.filterwarnings(\"ignore\")"
   ],
   "outputs": [],
   "execution_count": 6
  },
  {
   "metadata": {
    "ExecuteTime": {
     "end_time": "2024-08-05T08:50:59.976018Z",
     "start_time": "2024-08-05T08:50:59.954442Z"
    }
   },
   "cell_type": "code",
   "source": "X_train, X_test, y_train, y_test, train_df, test_df = preprocess_data(standardise=False)",
   "id": "35e17f079947b4ee",
   "outputs": [],
   "execution_count": 7
  },
  {
   "metadata": {
    "ExecuteTime": {
     "end_time": "2024-08-05T08:51:00.714025Z",
     "start_time": "2024-08-05T08:51:00.710106Z"
    }
   },
   "cell_type": "code",
   "source": [
    "def optimise_decision_tree(criterion, splitter, max_depth, min_samples_split, min_samples_leaf):\n",
    "    \"\"\"\n",
    "    Returns the accuracy based and default 5-fold cross validation score of decision trees of different parameters\n",
    "    See https://scikit-learn.org/stable/modules/generated/sklearn.tree.DecisionTreeClassifier.html for more details.\n",
    "    \"\"\"\n",
    "    criterion_map = {0: 'gini', 1: 'entropy'}\n",
    "    splitter_map = {0: 'best', 1: 'random'}\n",
    "\n",
    "    model = DecisionTreeClassifier(\n",
    "        criterion=criterion_map[int(criterion)],\n",
    "        splitter=splitter_map[int(splitter)],\n",
    "        max_depth=int(max_depth),\n",
    "        min_samples_split=int(min_samples_split),\n",
    "        min_samples_leaf=int(min_samples_leaf),\n",
    "        random_state=42\n",
    "    )\n",
    "\n",
    "    return cross_val_score(model, X_train, y_train, cv=5, scoring='accuracy').mean()\n"
   ],
   "id": "289538fd078d2d04",
   "outputs": [],
   "execution_count": 8
  },
  {
   "metadata": {
    "ExecuteTime": {
     "end_time": "2024-08-05T08:51:01.443674Z",
     "start_time": "2024-08-05T08:51:01.254904Z"
    }
   },
   "cell_type": "code",
   "source": [
    "param_space = np.array([\n",
    "    (0, 1),  # criterion: 'gini' or 'entropy'\n",
    "    (0, 1),  # splitter: 'best' or 'random'\n",
    "    (1, 20),  # max_depth\n",
    "    (2, 20),  # min_samples_split\n",
    "    (1, 20)   # min_samples_leaf\n",
    "])\n",
    "\n",
    "n_iters = 25\n",
    "initial_samples = 5\n",
    "\n",
    "# Initial random samples\n",
    "x0 = np.random.uniform(param_space[:, 0], param_space[:, 1], size=(initial_samples, param_space.shape[0]))\n",
    "y0 = np.array([optimise_decision_tree(*params) for params in x0])\n",
    "\n",
    "gp_params = {\"alpha\": 1e-6}"
   ],
   "id": "87e94daaa50354a0",
   "outputs": [],
   "execution_count": 9
  },
  {
   "metadata": {
    "ExecuteTime": {
     "end_time": "2024-08-05T08:51:07.728240Z",
     "start_time": "2024-08-05T08:51:02.210694Z"
    }
   },
   "cell_type": "code",
   "source": [
    "X_sample, Y_sample, gpr = bayesian_optimisation(n_iters, optimise_decision_tree, param_space, x0, y0.reshape(-1, 1), gp_params)\n",
    "\n",
    "# Best parameters\n",
    "best_idx = np.argmax(Y_sample)\n",
    "best_params = X_sample[best_idx]\n",
    "best_accuracy = Y_sample[best_idx]\n",
    "\n",
    "print(f\"Best accuracy: {best_accuracy}\")"
   ],
   "id": "5421f99fad2357fd",
   "outputs": [
    {
     "name": "stdout",
     "output_type": "stream",
     "text": [
      "Best accuracy: [0.82275819]\n"
     ]
    }
   ],
   "execution_count": 10
  },
  {
   "metadata": {
    "ExecuteTime": {
     "end_time": "2024-08-05T08:51:11.875479Z",
     "start_time": "2024-08-05T08:51:11.856954Z"
    }
   },
   "cell_type": "code",
   "source": [
    "best_model = DecisionTreeClassifier(\n",
    "    criterion=['gini', 'entropy'][int(best_params[0])],\n",
    "    splitter=['best', 'random'][int(best_params[1])],\n",
    "    max_depth=int(best_params[2]),\n",
    "    min_samples_split=int(best_params[3]),\n",
    "    min_samples_leaf=int(best_params[4]),\n",
    "    random_state=42\n",
    ")\n",
    "best_model.fit(X_train, y_train)\n",
    "\n",
    "X_test_final = test_df.drop(columns=['Loan_ID'])\n",
    "\n",
    "# Predict loan status using the trained Decision Tree model\n",
    "y_test_pred = best_model.predict(X_test_final)\n",
    "test_df['Loan_Status'] = ['Y' if pred == 1 else 'N' for pred in y_test_pred]\n",
    "# Save the file for any future use as test datax\n",
    "target_filename = \"data/loan_sanction_test_with_predictions_decision_tree.csv\"\n",
    "test_df.to_csv(target_filename, index=False)\n",
    "print(f\"Predictions have been saved to {target_filename}.\")"
   ],
   "id": "375890a0fc65fc54",
   "outputs": [
    {
     "name": "stdout",
     "output_type": "stream",
     "text": [
      "Predictions have been saved to data/loan_sanction_test_with_predictions_decision_tree.csv.\n"
     ]
    }
   ],
   "execution_count": 11
  },
  {
   "metadata": {
    "ExecuteTime": {
     "end_time": "2024-08-04T14:51:19.238702Z",
     "start_time": "2024-08-04T14:51:19.048365Z"
    }
   },
   "cell_type": "code",
   "source": "",
   "id": "5b85b3a9646e5b36",
   "outputs": [],
   "execution_count": 71
  },
  {
   "metadata": {
    "ExecuteTime": {
     "end_time": "2024-08-04T14:51:27.289567Z",
     "start_time": "2024-08-04T14:51:19.839978Z"
    }
   },
   "cell_type": "code",
   "source": [
    "X_test_final = test_df.drop(columns=['Loan_ID'])\n",
    "# Predict loan status using the trained Decision Tree model\n",
    "y_test_pred = best_model.predict(X_test_final)\n",
    "test_df['Loan_Status'] = ['Y' if pred == 1 else 'N' for pred in y_test_pred]\n",
    "# Save the file\n",
    "target_filename = \"data/loan_sanction_test_with_predictions_decision_tree.csv\"\n",
    "test_df.to_csv(target_filename, index=False)\n",
    "print(f\"Predictions have been saved to {target_filename}.\")"
   ],
   "id": "c85362b0569b19ce",
   "outputs": [
    {
     "name": "stdout",
     "output_type": "stream",
     "text": [
      "Best accuracy: [0.82073799]\n"
     ]
    }
   ],
   "execution_count": 72
  },
  {
   "metadata": {
    "ExecuteTime": {
     "end_time": "2024-08-04T14:51:28.733407Z",
     "start_time": "2024-08-04T14:51:28.714036Z"
    }
   },
   "cell_type": "code",
   "source": "",
   "id": "bead790f8af6b03f",
   "outputs": [
    {
     "name": "stdout",
     "output_type": "stream",
     "text": [
      "Predictions have been saved to data/loan_sanction_test_with_predictions_decision_tree.csv.\n"
     ]
    }
   ],
   "execution_count": 73
  }
 ],
 "metadata": {
  "kernelspec": {
   "display_name": "Python 3",
   "language": "python",
   "name": "python3"
  },
  "language_info": {
   "codemirror_mode": {
    "name": "ipython",
    "version": 2
   },
   "file_extension": ".py",
   "mimetype": "text/x-python",
   "name": "python",
   "nbconvert_exporter": "python",
   "pygments_lexer": "ipython2",
   "version": "2.7.6"
  }
 },
 "nbformat": 4,
 "nbformat_minor": 5
}
