{
 "cells": [
  {
   "metadata": {
    "ExecuteTime": {
     "end_time": "2024-08-05T08:51:56.302266Z",
     "start_time": "2024-08-05T08:51:56.298988Z"
    }
   },
   "cell_type": "code",
   "source": [
    "import warnings\n",
    "\n",
    "import numpy as np\n",
    "import pandas as pd\n",
    "\n",
    "from sklearn.model_selection import cross_val_score\n",
    "from sklearn.neighbors import KNeighborsClassifier\n",
    "from sklearn.metrics import accuracy_score\n",
    "\n",
    "from utils import *"
   ],
   "id": "4865a87ec5618eb5",
   "outputs": [],
   "execution_count": 19
  },
  {
   "metadata": {
    "ExecuteTime": {
     "end_time": "2024-08-05T08:51:57.487852Z",
     "start_time": "2024-08-05T08:51:57.462442Z"
    }
   },
   "cell_type": "code",
   "source": [
    "warnings.filterwarnings(\"ignore\")\n",
    "\n",
    "X_train, X_test, y_train, y_test, train_df, test_df = preprocess_data(standardise=True)"
   ],
   "id": "f24ba57dc8d8d53e",
   "outputs": [],
   "execution_count": 20
  },
  {
   "metadata": {
    "ExecuteTime": {
     "end_time": "2024-08-05T08:51:58.199207Z",
     "start_time": "2024-08-05T08:51:58.196018Z"
    }
   },
   "cell_type": "code",
   "source": [
    "def optimise_knn(n_neighbors, leaf_size, p):\n",
    "    model = KNeighborsClassifier(\n",
    "        n_neighbors=int(n_neighbors),\n",
    "        leaf_size=int(leaf_size),\n",
    "        p=int(p)\n",
    "    )\n",
    "    return cross_val_score(model, X_train, y_train, cv=5, scoring='accuracy').mean()\n"
   ],
   "id": "415b39954f65039c",
   "outputs": [],
   "execution_count": 21
  },
  {
   "metadata": {
    "ExecuteTime": {
     "end_time": "2024-08-05T08:51:59.316217Z",
     "start_time": "2024-08-05T08:51:59.077062Z"
    }
   },
   "cell_type": "code",
   "source": [
    "param_space = np.array([\n",
    "    (1, 30),    # 'n_neighbors'\n",
    "    (20, 40),   # 'leaf_size'\n",
    "    (1, 2)      # Minkowski metric parameter (1 for Manhattan, 2 for Euclidean)\n",
    "])\n",
    "\n",
    "n_iters = 25\n",
    "initial_samples = 5\n",
    "\n",
    "# Initial random samples\n",
    "x0 = np.random.uniform(param_space[:, 0], param_space[:, 1], size=(initial_samples, param_space.shape[0]))\n",
    "y0 = np.array([optimise_knn(*params) for params in x0])\n",
    "\n",
    "gp_params = {\"alpha\": 1e-6}"
   ],
   "id": "eb2b7739da6f4770",
   "outputs": [],
   "execution_count": 22
  },
  {
   "metadata": {
    "ExecuteTime": {
     "end_time": "2024-08-05T08:52:09.458594Z",
     "start_time": "2024-08-05T08:52:00.451665Z"
    }
   },
   "cell_type": "code",
   "source": [
    "X_sample, Y_sample, gpr = bayesian_optimisation(n_iters, optimise_knn, param_space, x0, y0.reshape(-1, 1), gp_params)\n",
    "\n",
    "# Best parameters\n",
    "best_idx = np.argmax(Y_sample)\n",
    "best_params = X_sample[best_idx]\n",
    "best_accuracy = Y_sample[best_idx]\n",
    "\n",
    "print(f\"Best accuracy: {best_accuracy}\")\n"
   ],
   "id": "d9a56f3affe1549d",
   "outputs": [
    {
     "name": "stdout",
     "output_type": "stream",
     "text": [
      "Best accuracy: [0.80441146]\n"
     ]
    }
   ],
   "execution_count": 23
  },
  {
   "metadata": {
    "ExecuteTime": {
     "end_time": "2024-08-05T08:52:12.715249Z",
     "start_time": "2024-08-05T08:52:12.700468Z"
    }
   },
   "cell_type": "code",
   "source": [
    "model = KNeighborsClassifier()\n",
    "\n",
    "model.fit(X_train, y_train)\n",
    "y_pred = model.predict(X_test)\n",
    "\n",
    "accuracy = accuracy_score(y_test, y_pred)\n",
    "print(f\"Optimized KNN Accuracy: {accuracy}\")"
   ],
   "id": "8b71726371f35259",
   "outputs": [
    {
     "name": "stdout",
     "output_type": "stream",
     "text": [
      "Optimized KNN Accuracy: 0.7560975609756098\n"
     ]
    }
   ],
   "execution_count": 24
  },
  {
   "metadata": {
    "ExecuteTime": {
     "end_time": "2024-08-05T08:52:14.646273Z",
     "start_time": "2024-08-05T08:52:14.627764Z"
    }
   },
   "cell_type": "code",
   "source": [
    "best_model = KNeighborsClassifier(\n",
    "    n_neighbors=int(best_params[0]),\n",
    "    leaf_size=int(best_params[1]),\n",
    "    p=int(best_params[2])\n",
    ")\n",
    "\n",
    "best_model.fit(X_train, y_train)\n",
    "y_pred = best_model.predict(X_test)\n",
    "y_pred = (y_pred > 0.5).astype(int)  # Convert probabilities to class labels\n",
    "\n",
    "accuracy = accuracy_score(y_test, y_pred)\n",
    "print(f\"Optimized CNN Accuracy: {accuracy}\")"
   ],
   "id": "43568f3d332243c6",
   "outputs": [
    {
     "name": "stdout",
     "output_type": "stream",
     "text": [
      "Optimized CNN Accuracy: 0.7886178861788617\n"
     ]
    }
   ],
   "execution_count": 25
  },
  {
   "metadata": {
    "ExecuteTime": {
     "end_time": "2024-08-05T08:40:11.748090Z",
     "start_time": "2024-08-05T08:40:11.744633Z"
    }
   },
   "cell_type": "code",
   "source": [
    "# test_df_generated = pd.read_csv('data/loan_sanction_test_with_predictions_decision_tree.csv')\n",
    "# \n",
    "# test_df_generated['Loan_Status'] = test_df_generated['Loan_Status'].map({'Y': 1, 'N': 0})\n",
    "# test_df_generated.head()\n",
    "# X_test_generated = test_df_generated.drop(['Loan_ID', 'Loan_Status'], axis=1)\n",
    "# Y_test_generated = test_df_generated['Loan_Status']\n",
    "# \n",
    "# \n",
    "# Y_test_predict = best_model.predict(X_test_generated)\n",
    "# accuracy_generated = accuracy_score(Y_test_generated, Y_test_predict)\n",
    "# print(f\"Optimized KNN Accuracy: {accuracy_generated}\")"
   ],
   "id": "2e5dbd7126243193",
   "outputs": [],
   "execution_count": 18
  },
  {
   "metadata": {},
   "cell_type": "code",
   "outputs": [],
   "execution_count": null,
   "source": "",
   "id": "f18af06ab1251a9e"
  }
 ],
 "metadata": {
  "kernelspec": {
   "display_name": "Python 3",
   "language": "python",
   "name": "python3"
  },
  "language_info": {
   "codemirror_mode": {
    "name": "ipython",
    "version": 2
   },
   "file_extension": ".py",
   "mimetype": "text/x-python",
   "name": "python",
   "nbconvert_exporter": "python",
   "pygments_lexer": "ipython2",
   "version": "2.7.6"
  }
 },
 "nbformat": 4,
 "nbformat_minor": 5
}
