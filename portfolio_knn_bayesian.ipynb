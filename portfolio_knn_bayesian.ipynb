{
 "cells": [
  {
   "metadata": {
    "ExecuteTime": {
     "end_time": "2024-08-02T21:07:23.782791Z",
     "start_time": "2024-08-02T21:07:23.775475Z"
    }
   },
   "cell_type": "code",
   "source": [
    "import warnings\n",
    "\n",
    "from sklearn.model_selection import cross_val_score\n",
    "from sklearn.neighbors import KNeighborsClassifier\n",
    "from sklearn.metrics import accuracy_score\n",
    "from bayes_opt import BayesianOptimization\n",
    "\n",
    "from utils import preprocess_data"
   ],
   "id": "4865a87ec5618eb5",
   "outputs": [],
   "execution_count": 19
  },
  {
   "metadata": {
    "ExecuteTime": {
     "end_time": "2024-08-02T21:07:24.401819Z",
     "start_time": "2024-08-02T21:07:24.371135Z"
    }
   },
   "cell_type": "code",
   "source": [
    "warnings.filterwarnings(\"ignore\")\n",
    "\n",
    "X_train, X_test, y_train, y_test, train_df, test_df = preprocess_data(standardise=True)"
   ],
   "id": "f24ba57dc8d8d53e",
   "outputs": [],
   "execution_count": 20
  },
  {
   "metadata": {
    "ExecuteTime": {
     "end_time": "2024-08-02T21:07:27.640691Z",
     "start_time": "2024-08-02T21:07:27.635605Z"
    }
   },
   "cell_type": "code",
   "source": [
    "def optimize_knn(n_neighbors, leaf_size, p):\n",
    "    model = KNeighborsClassifier(\n",
    "        n_neighbors=int(n_neighbors),\n",
    "        leaf_size=int(leaf_size),\n",
    "        p=int(p)\n",
    "    )\n",
    "    return cross_val_score(model, X_train, y_train, cv=5, scoring='accuracy').mean()\n"
   ],
   "id": "415b39954f65039c",
   "outputs": [],
   "execution_count": 21
  },
  {
   "metadata": {
    "ExecuteTime": {
     "end_time": "2024-08-02T21:07:28.094531Z",
     "start_time": "2024-08-02T21:07:28.091341Z"
    }
   },
   "cell_type": "code",
   "source": [
    "param_space = {\n",
    "    'n_neighbors': (1, 30),\n",
    "    'leaf_size': (20, 40),\n",
    "    'p': (1, 2)  # Minkowski metric parameter (1 for Manhattan, 2 for Euclidean)\n",
    "}\n"
   ],
   "id": "eb2b7739da6f4770",
   "outputs": [],
   "execution_count": 22
  },
  {
   "metadata": {
    "ExecuteTime": {
     "end_time": "2024-08-02T21:07:48.662771Z",
     "start_time": "2024-08-02T21:07:35.221134Z"
    }
   },
   "cell_type": "code",
   "source": [
    "optimizer = BayesianOptimization(\n",
    "    f=optimize_knn,\n",
    "    pbounds=param_space,\n",
    "    random_state=42\n",
    ")\n",
    "\n",
    "# Start the optimization process\n",
    "optimizer.maximize(init_points=5, n_iter=55)\n"
   ],
   "id": "d9a56f3affe1549d",
   "outputs": [
    {
     "name": "stdout",
     "output_type": "stream",
     "text": [
      "|   iter    |  target   | leaf_size | n_neig... |     p     |\n",
      "-------------------------------------------------------------\n",
      "| \u001B[39m1        \u001B[39m | \u001B[39m0.7637   \u001B[39m | \u001B[39m27.49    \u001B[39m | \u001B[39m28.57    \u001B[39m | \u001B[39m1.732    \u001B[39m |\n",
      "| \u001B[35m2        \u001B[39m | \u001B[35m0.7901   \u001B[39m | \u001B[35m31.97    \u001B[39m | \u001B[35m5.525    \u001B[39m | \u001B[35m1.156    \u001B[39m |\n",
      "| \u001B[39m3        \u001B[39m | \u001B[39m0.7698   \u001B[39m | \u001B[39m21.16    \u001B[39m | \u001B[39m26.12    \u001B[39m | \u001B[39m1.601    \u001B[39m |\n",
      "| \u001B[39m4        \u001B[39m | \u001B[39m0.7475   \u001B[39m | \u001B[39m34.16    \u001B[39m | \u001B[39m1.597    \u001B[39m | \u001B[39m1.97     \u001B[39m |\n",
      "| \u001B[35m5        \u001B[39m | \u001B[35m0.7962   \u001B[39m | \u001B[35m36.65    \u001B[39m | \u001B[35m7.158    \u001B[39m | \u001B[35m1.182    \u001B[39m |\n",
      "| \u001B[39m6        \u001B[39m | \u001B[39m0.7901   \u001B[39m | \u001B[39m32.0     \u001B[39m | \u001B[39m5.591    \u001B[39m | \u001B[39m1.182    \u001B[39m |\n",
      "| \u001B[39m7        \u001B[39m | \u001B[39m0.7962   \u001B[39m | \u001B[39m35.05    \u001B[39m | \u001B[39m9.67     \u001B[39m | \u001B[39m1.0      \u001B[39m |\n",
      "| \u001B[35m8        \u001B[39m | \u001B[35m0.7983   \u001B[39m | \u001B[35m39.27    \u001B[39m | \u001B[35m10.27    \u001B[39m | \u001B[35m1.0      \u001B[39m |\n",
      "| \u001B[39m9        \u001B[39m | \u001B[39m0.7942   \u001B[39m | \u001B[39m26.67    \u001B[39m | \u001B[39m6.753    \u001B[39m | \u001B[39m1.0      \u001B[39m |\n",
      "| \u001B[35m10       \u001B[39m | \u001B[35m0.7983   \u001B[39m | \u001B[35m37.79    \u001B[39m | \u001B[35m15.72    \u001B[39m | \u001B[35m2.0      \u001B[39m |\n",
      "| \u001B[39m11       \u001B[39m | \u001B[39m0.7841   \u001B[39m | \u001B[39m32.11    \u001B[39m | \u001B[39m15.94    \u001B[39m | \u001B[39m1.0      \u001B[39m |\n",
      "| \u001B[39m12       \u001B[39m | \u001B[39m0.7739   \u001B[39m | \u001B[39m40.0     \u001B[39m | \u001B[39m20.5     \u001B[39m | \u001B[39m1.0      \u001B[39m |\n",
      "| \u001B[39m13       \u001B[39m | \u001B[39m0.784    \u001B[39m | \u001B[39m22.25    \u001B[39m | \u001B[39m3.0      \u001B[39m | \u001B[39m1.0      \u001B[39m |\n",
      "| \u001B[39m14       \u001B[39m | \u001B[39m0.7983   \u001B[39m | \u001B[39m36.91    \u001B[39m | \u001B[39m12.67    \u001B[39m | \u001B[39m2.0      \u001B[39m |\n",
      "| \u001B[39m15       \u001B[39m | \u001B[39m0.786    \u001B[39m | \u001B[39m22.14    \u001B[39m | \u001B[39m11.88    \u001B[39m | \u001B[39m1.0      \u001B[39m |\n",
      "| \u001B[39m16       \u001B[39m | \u001B[39m0.7881   \u001B[39m | \u001B[39m40.0     \u001B[39m | \u001B[39m30.0     \u001B[39m | \u001B[39m2.0      \u001B[39m |\n",
      "| \u001B[35m17       \u001B[39m | \u001B[35m0.8024   \u001B[39m | \u001B[35m40.0     \u001B[39m | \u001B[35m13.71    \u001B[39m | \u001B[35m2.0      \u001B[39m |\n",
      "| \u001B[39m18       \u001B[39m | \u001B[39m0.7983   \u001B[39m | \u001B[39m28.66    \u001B[39m | \u001B[39m10.93    \u001B[39m | \u001B[39m1.0      \u001B[39m |\n",
      "| \u001B[35m19       \u001B[39m | \u001B[35m0.8044   \u001B[39m | \u001B[35m25.39    \u001B[39m | \u001B[35m16.86    \u001B[39m | \u001B[35m2.0      \u001B[39m |\n",
      "| \u001B[39m20       \u001B[39m | \u001B[39m0.7983   \u001B[39m | \u001B[39m21.4     \u001B[39m | \u001B[39m17.97    \u001B[39m | \u001B[39m2.0      \u001B[39m |\n",
      "| \u001B[39m21       \u001B[39m | \u001B[39m0.7698   \u001B[39m | \u001B[39m25.8     \u001B[39m | \u001B[39m19.96    \u001B[39m | \u001B[39m1.0      \u001B[39m |\n",
      "| \u001B[39m22       \u001B[39m | \u001B[39m0.8044   \u001B[39m | \u001B[39m26.2     \u001B[39m | \u001B[39m14.06    \u001B[39m | \u001B[39m2.0      \u001B[39m |\n",
      "| \u001B[39m23       \u001B[39m | \u001B[39m0.7983   \u001B[39m | \u001B[39m23.42    \u001B[39m | \u001B[39m15.41    \u001B[39m | \u001B[39m2.0      \u001B[39m |\n",
      "| \u001B[39m24       \u001B[39m | \u001B[39m0.7923   \u001B[39m | \u001B[39m40.0     \u001B[39m | \u001B[39m6.413    \u001B[39m | \u001B[39m2.0      \u001B[39m |\n",
      "| \u001B[39m25       \u001B[39m | \u001B[39m0.7983   \u001B[39m | \u001B[39m27.96    \u001B[39m | \u001B[39m15.57    \u001B[39m | \u001B[39m2.0      \u001B[39m |\n",
      "| \u001B[39m26       \u001B[39m | \u001B[39m0.7617   \u001B[39m | \u001B[39m34.91    \u001B[39m | \u001B[39m30.0     \u001B[39m | \u001B[39m1.0      \u001B[39m |\n",
      "| \u001B[39m27       \u001B[39m | \u001B[39m0.7475   \u001B[39m | \u001B[39m26.83    \u001B[39m | \u001B[39m1.0      \u001B[39m | \u001B[39m1.0      \u001B[39m |\n",
      "| \u001B[39m28       \u001B[39m | \u001B[39m0.7923   \u001B[39m | \u001B[39m20.0     \u001B[39m | \u001B[39m6.846    \u001B[39m | \u001B[39m2.0      \u001B[39m |\n",
      "| \u001B[39m29       \u001B[39m | \u001B[39m0.8024   \u001B[39m | \u001B[39m25.68    \u001B[39m | \u001B[39m9.913    \u001B[39m | \u001B[39m2.0      \u001B[39m |\n",
      "| \u001B[39m30       \u001B[39m | \u001B[39m0.7841   \u001B[39m | \u001B[39m25.74    \u001B[39m | \u001B[39m15.47    \u001B[39m | \u001B[39m1.0      \u001B[39m |\n",
      "| \u001B[39m31       \u001B[39m | \u001B[39m0.7983   \u001B[39m | \u001B[39m26.99    \u001B[39m | \u001B[39m12.14    \u001B[39m | \u001B[39m2.0      \u001B[39m |\n",
      "| \u001B[39m32       \u001B[39m | \u001B[39m0.8044   \u001B[39m | \u001B[39m31.84    \u001B[39m | \u001B[39m11.32    \u001B[39m | \u001B[39m2.0      \u001B[39m |\n",
      "| \u001B[39m33       \u001B[39m | \u001B[39m0.7922   \u001B[39m | \u001B[39m29.73    \u001B[39m | \u001B[39m8.592    \u001B[39m | \u001B[39m2.0      \u001B[39m |\n",
      "| \u001B[39m34       \u001B[39m | \u001B[39m0.7983   \u001B[39m | \u001B[39m23.58    \u001B[39m | \u001B[39m7.811    \u001B[39m | \u001B[39m2.0      \u001B[39m |\n",
      "| \u001B[39m35       \u001B[39m | \u001B[39m0.7983   \u001B[39m | \u001B[39m20.0     \u001B[39m | \u001B[39m15.36    \u001B[39m | \u001B[39m2.0      \u001B[39m |\n",
      "| \u001B[39m36       \u001B[39m | \u001B[39m0.7922   \u001B[39m | \u001B[39m33.59    \u001B[39m | \u001B[39m21.82    \u001B[39m | \u001B[39m2.0      \u001B[39m |\n",
      "| \u001B[39m37       \u001B[39m | \u001B[39m0.8024   \u001B[39m | \u001B[39m30.15    \u001B[39m | \u001B[39m13.07    \u001B[39m | \u001B[39m2.0      \u001B[39m |\n",
      "| \u001B[39m38       \u001B[39m | \u001B[39m0.7983   \u001B[39m | \u001B[39m33.71    \u001B[39m | \u001B[39m12.91    \u001B[39m | \u001B[39m2.0      \u001B[39m |\n",
      "| \u001B[39m39       \u001B[39m | \u001B[39m0.7475   \u001B[39m | \u001B[39m40.0     \u001B[39m | \u001B[39m1.0      \u001B[39m | \u001B[39m1.0      \u001B[39m |\n",
      "| \u001B[39m40       \u001B[39m | \u001B[39m0.784    \u001B[39m | \u001B[39m40.0     \u001B[39m | \u001B[39m25.83    \u001B[39m | \u001B[39m2.0      \u001B[39m |\n",
      "| \u001B[39m41       \u001B[39m | \u001B[39m0.7434   \u001B[39m | \u001B[39m20.0     \u001B[39m | \u001B[39m1.0      \u001B[39m | \u001B[39m2.0      \u001B[39m |\n",
      "| \u001B[39m42       \u001B[39m | \u001B[39m0.8003   \u001B[39m | \u001B[39m20.0     \u001B[39m | \u001B[39m20.85    \u001B[39m | \u001B[39m2.0      \u001B[39m |\n",
      "| \u001B[39m43       \u001B[39m | \u001B[39m0.8004   \u001B[39m | \u001B[39m35.42    \u001B[39m | \u001B[39m18.67    \u001B[39m | \u001B[39m2.0      \u001B[39m |\n",
      "| \u001B[39m44       \u001B[39m | \u001B[39m0.7841   \u001B[39m | \u001B[39m40.0     \u001B[39m | \u001B[39m15.79    \u001B[39m | \u001B[39m1.0      \u001B[39m |\n",
      "| \u001B[39m45       \u001B[39m | \u001B[39m0.778    \u001B[39m | \u001B[39m20.0     \u001B[39m | \u001B[39m18.74    \u001B[39m | \u001B[39m1.0      \u001B[39m |\n",
      "| \u001B[39m46       \u001B[39m | \u001B[39m0.7841   \u001B[39m | \u001B[39m35.58    \u001B[39m | \u001B[39m15.79    \u001B[39m | \u001B[39m1.0      \u001B[39m |\n",
      "| \u001B[39m47       \u001B[39m | \u001B[39m0.7922   \u001B[39m | \u001B[39m36.41    \u001B[39m | \u001B[39m21.5     \u001B[39m | \u001B[39m2.0      \u001B[39m |\n",
      "| \u001B[39m48       \u001B[39m | \u001B[39m0.7922   \u001B[39m | \u001B[39m22.12    \u001B[39m | \u001B[39m21.43    \u001B[39m | \u001B[39m2.0      \u001B[39m |\n",
      "| \u001B[39m49       \u001B[39m | \u001B[39m0.8024   \u001B[39m | \u001B[39m37.57    \u001B[39m | \u001B[39m9.246    \u001B[39m | \u001B[39m2.0      \u001B[39m |\n",
      "| \u001B[39m50       \u001B[39m | \u001B[39m0.8024   \u001B[39m | \u001B[39m20.0     \u001B[39m | \u001B[39m10.08    \u001B[39m | \u001B[39m2.0      \u001B[39m |\n",
      "| \u001B[39m51       \u001B[39m | \u001B[39m0.7983   \u001B[39m | \u001B[39m23.6     \u001B[39m | \u001B[39m17.77    \u001B[39m | \u001B[39m2.0      \u001B[39m |\n",
      "| \u001B[39m52       \u001B[39m | \u001B[39m0.8024   \u001B[39m | \u001B[39m31.03    \u001B[39m | \u001B[39m19.5     \u001B[39m | \u001B[39m2.0      \u001B[39m |\n",
      "| \u001B[39m53       \u001B[39m | \u001B[39m0.7983   \u001B[39m | \u001B[39m30.11    \u001B[39m | \u001B[39m22.33    \u001B[39m | \u001B[39m2.0      \u001B[39m |\n",
      "| \u001B[39m54       \u001B[39m | \u001B[39m0.8044   \u001B[39m | \u001B[39m40.0     \u001B[39m | \u001B[39m11.64    \u001B[39m | \u001B[39m2.0      \u001B[39m |\n",
      "| \u001B[39m55       \u001B[39m | \u001B[39m0.7881   \u001B[39m | \u001B[39m20.0     \u001B[39m | \u001B[39m30.0     \u001B[39m | \u001B[39m2.0      \u001B[39m |\n",
      "| \u001B[39m56       \u001B[39m | \u001B[39m0.7983   \u001B[39m | \u001B[39m20.0     \u001B[39m | \u001B[39m12.66    \u001B[39m | \u001B[39m2.0      \u001B[39m |\n",
      "| \u001B[39m57       \u001B[39m | \u001B[39m0.7901   \u001B[39m | \u001B[39m23.21    \u001B[39m | \u001B[39m5.666    \u001B[39m | \u001B[39m1.0      \u001B[39m |\n",
      "| \u001B[39m58       \u001B[39m | \u001B[39m0.7698   \u001B[39m | \u001B[39m33.08    \u001B[39m | \u001B[39m19.59    \u001B[39m | \u001B[39m1.0      \u001B[39m |\n",
      "| \u001B[39m59       \u001B[39m | \u001B[39m0.8004   \u001B[39m | \u001B[39m29.09    \u001B[39m | \u001B[39m18.62    \u001B[39m | \u001B[39m2.0      \u001B[39m |\n",
      "| \u001B[39m60       \u001B[39m | \u001B[39m0.7983   \u001B[39m | \u001B[39m32.6     \u001B[39m | \u001B[39m24.83    \u001B[39m | \u001B[39m2.0      \u001B[39m |\n",
      "=============================================================\n"
     ]
    }
   ],
   "execution_count": 23
  },
  {
   "metadata": {
    "ExecuteTime": {
     "end_time": "2024-08-02T21:07:48.683947Z",
     "start_time": "2024-08-02T21:07:48.666207Z"
    }
   },
   "cell_type": "code",
   "source": [
    "best_params = optimizer.max['params']\n",
    "best_model = KNeighborsClassifier(\n",
    "    n_neighbors=int(best_params['n_neighbors']),\n",
    "    leaf_size=int(best_params['leaf_size']),\n",
    "    p=int(best_params['p'])\n",
    ")\n",
    "best_model.fit(X_train, y_train)\n",
    "y_pred = best_model.predict(X_test)\n",
    "\n",
    "accuracy = accuracy_score(y_test, y_pred)\n",
    "print(f\"Optimized KNN Accuracy: {accuracy}\")\n"
   ],
   "id": "75bc066dc0d728e6",
   "outputs": [
    {
     "name": "stdout",
     "output_type": "stream",
     "text": [
      "Optimized KNN Accuracy: 0.7967479674796748\n"
     ]
    }
   ],
   "execution_count": 24
  },
  {
   "metadata": {
    "ExecuteTime": {
     "end_time": "2024-08-02T21:07:48.702105Z",
     "start_time": "2024-08-02T21:07:48.685992Z"
    }
   },
   "cell_type": "code",
   "source": [
    "model = KNeighborsClassifier()\n",
    "\n",
    "model.fit(X_train, y_train)\n",
    "y_pred = model.predict(X_test)\n",
    "\n",
    "accuracy = accuracy_score(y_test, y_pred)\n",
    "print(f\"Optimized KNN Accuracy: {accuracy}\")"
   ],
   "id": "8b71726371f35259",
   "outputs": [
    {
     "name": "stdout",
     "output_type": "stream",
     "text": [
      "Optimized KNN Accuracy: 0.7560975609756098\n"
     ]
    }
   ],
   "execution_count": 25
  },
  {
   "metadata": {},
   "cell_type": "code",
   "outputs": [],
   "execution_count": null,
   "source": "",
   "id": "2e5dbd7126243193"
  }
 ],
 "metadata": {
  "kernelspec": {
   "display_name": "Python 3",
   "language": "python",
   "name": "python3"
  },
  "language_info": {
   "codemirror_mode": {
    "name": "ipython",
    "version": 2
   },
   "file_extension": ".py",
   "mimetype": "text/x-python",
   "name": "python",
   "nbconvert_exporter": "python",
   "pygments_lexer": "ipython2",
   "version": "2.7.6"
  }
 },
 "nbformat": 4,
 "nbformat_minor": 5
}
