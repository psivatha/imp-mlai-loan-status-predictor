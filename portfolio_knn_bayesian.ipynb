{
 "cells": [
  {
   "metadata": {
    "ExecuteTime": {
     "end_time": "2024-08-05T14:37:29.747265Z",
     "start_time": "2024-08-05T14:37:29.743812Z"
    }
   },
   "cell_type": "code",
   "source": [
    "import warnings\n",
    "\n",
    "import numpy as np\n",
    "import pandas as pd\n",
    "from sklearn.metrics import accuracy_score\n",
    "from sklearn.metrics import classification_report\n",
    "from sklearn.model_selection import cross_val_score\n",
    "from sklearn.neighbors import KNeighborsClassifier\n",
    "\n",
    "from utils import preprocess_data, bayesian_optimisation, write_new_data_file"
   ],
   "id": "4865a87ec5618eb5",
   "outputs": [],
   "execution_count": 19
  },
  {
   "metadata": {
    "ExecuteTime": {
     "end_time": "2024-08-05T14:16:32.142566Z",
     "start_time": "2024-08-05T14:16:32.115064Z"
    }
   },
   "cell_type": "code",
   "source": [
    "warnings.filterwarnings(\"ignore\")\n",
    "\n",
    "X_train, X_test, y_train, y_test, train_df, test_df = preprocess_data(standardise=True)"
   ],
   "id": "f24ba57dc8d8d53e",
   "outputs": [],
   "execution_count": 11
  },
  {
   "metadata": {
    "ExecuteTime": {
     "end_time": "2024-08-05T14:16:33.192528Z",
     "start_time": "2024-08-05T14:16:33.189243Z"
    }
   },
   "cell_type": "code",
   "source": [
    "def optimise_knn(n_neighbors, leaf_size, p):\n",
    "    model = KNeighborsClassifier(\n",
    "        n_neighbors=int(n_neighbors),\n",
    "        leaf_size=int(leaf_size),\n",
    "        p=int(p)\n",
    "    )\n",
    "    return cross_val_score(model, X_train, y_train, cv=5, scoring='accuracy').mean()\n"
   ],
   "id": "415b39954f65039c",
   "outputs": [],
   "execution_count": 12
  },
  {
   "metadata": {
    "ExecuteTime": {
     "end_time": "2024-08-05T14:16:33.947240Z",
     "start_time": "2024-08-05T14:16:33.730199Z"
    }
   },
   "cell_type": "code",
   "source": [
    "param_space = np.array([\n",
    "    (1, 30),    # 'n_neighbors'\n",
    "    (20, 40),   # 'leaf_size'\n",
    "    (1, 2)      # Minkowski metric parameter (1 for Manhattan, 2 for Euclidean)\n",
    "])\n",
    "\n",
    "n_iters = 25\n",
    "initial_samples = 5\n",
    "\n",
    "# Initial random samples\n",
    "x0 = np.random.uniform(param_space[:, 0], param_space[:, 1], size=(initial_samples, param_space.shape[0]))\n",
    "y0 = np.array([optimise_knn(*params) for params in x0])\n",
    "\n",
    "gp_params = {\"alpha\": 1e-6}"
   ],
   "id": "eb2b7739da6f4770",
   "outputs": [],
   "execution_count": 13
  },
  {
   "metadata": {
    "ExecuteTime": {
     "end_time": "2024-08-05T14:16:42.003859Z",
     "start_time": "2024-08-05T14:16:36.443899Z"
    }
   },
   "cell_type": "code",
   "source": [
    "X_sample, Y_sample, gpr = bayesian_optimisation(n_iters, optimise_knn, param_space, x0, y0.reshape(-1, 1), gp_params)\n",
    "\n",
    "# Best parameters\n",
    "best_idx = np.argmax(Y_sample)\n",
    "best_params = X_sample[best_idx]\n",
    "best_accuracy = Y_sample[best_idx]\n",
    "\n",
    "print(f\"Best accuracy: {best_accuracy}\")\n"
   ],
   "id": "d9a56f3affe1549d",
   "outputs": [
    {
     "name": "stdout",
     "output_type": "stream",
     "text": [
      "Best accuracy: [0.80239126]\n"
     ]
    }
   ],
   "execution_count": 14
  },
  {
   "metadata": {
    "ExecuteTime": {
     "end_time": "2024-08-05T14:16:43.723195Z",
     "start_time": "2024-08-05T14:16:43.709493Z"
    }
   },
   "cell_type": "code",
   "source": [
    "model = KNeighborsClassifier()\n",
    "\n",
    "model.fit(X_train, y_train)\n",
    "y_pred = model.predict(X_test)\n",
    "\n",
    "accuracy = accuracy_score(y_test, y_pred)\n",
    "print(f\"Optimized KNN Accuracy: {accuracy}\")"
   ],
   "id": "8b71726371f35259",
   "outputs": [
    {
     "name": "stdout",
     "output_type": "stream",
     "text": [
      "Optimized KNN Accuracy: 0.7560975609756098\n"
     ]
    }
   ],
   "execution_count": 15
  },
  {
   "metadata": {
    "ExecuteTime": {
     "end_time": "2024-08-05T14:16:45.543013Z",
     "start_time": "2024-08-05T14:16:45.525368Z"
    }
   },
   "cell_type": "code",
   "source": [
    "best_model = KNeighborsClassifier(\n",
    "    n_neighbors=int(best_params[0]),\n",
    "    leaf_size=int(best_params[1]),\n",
    "    p=int(best_params[2])\n",
    ")\n",
    "\n",
    "best_model.fit(X_train, y_train)\n",
    "y_pred = best_model.predict(X_test)\n",
    "y_pred = (y_pred > 0.5).astype(int)  # Convert probabilities to class labels\n",
    "\n",
    "accuracy = accuracy_score(y_test, y_pred)\n",
    "print(f\"Optimized CNN Accuracy: {accuracy}\")"
   ],
   "id": "43568f3d332243c6",
   "outputs": [
    {
     "name": "stdout",
     "output_type": "stream",
     "text": [
      "Optimized CNN Accuracy: 0.7886178861788617\n"
     ]
    }
   ],
   "execution_count": 16
  },
  {
   "metadata": {
    "ExecuteTime": {
     "end_time": "2024-08-05T14:16:53.165115Z",
     "start_time": "2024-08-05T14:16:53.125960Z"
    }
   },
   "cell_type": "code",
   "source": [
    "# Save the file for any future use as test datax\n",
    "target_filename = \"data/loan_sanction_test_with_predictions_knn.csv\"\n",
    "write_new_data_file(best_model, X_train, y_train, test_df, target_filename)"
   ],
   "id": "2e5dbd7126243193",
   "outputs": [
    {
     "name": "stdout",
     "output_type": "stream",
     "text": [
      "Predictions have been saved to data/loan_sanction_test_with_predictions_knn.csv.\n"
     ]
    }
   ],
   "execution_count": 17
  },
  {
   "metadata": {
    "ExecuteTime": {
     "end_time": "2024-08-05T14:37:33.690389Z",
     "start_time": "2024-08-05T14:37:33.542423Z"
    }
   },
   "cell_type": "code",
   "source": [
    "from sklearn.preprocessing import StandardScaler\n",
    "\n",
    "for algo, filename in {\n",
    "    \"CNN\" : 'data/loan_sanction_test_with_predictions_cnn.csv',\n",
    "    \"DT\": 'data/loan_sanction_test_with_predictions_decision_tree.csv',\n",
    "    \"LeNet5\": 'data/loan_sanction_test_with_predictions_lenet5.csv',\n",
    "    \"LR\": 'data/loan_sanction_test_with_predictions_lr.csv',\n",
    "\n",
    "}.items():\n",
    "    test_df_new = pd.read_csv(filename)\n",
    "    X_new = test_df_new.drop(columns=['Loan_ID', 'Loan_Status'])\n",
    "    y_new = test_df_new['Loan_Status']\n",
    "    # Only scale for those that were scaled\n",
    "    scaler = StandardScaler()\n",
    "    X_new = scaler.fit_transform(X_new)\n",
    "    \n",
    "    y_pred = best_model.predict(X_new)\n",
    "    y_pred = (y_pred > 0.5).astype(int)  # Convert probabilities to class labels\n",
    "\n",
    "    lr_accuracy = accuracy_score(y_new, y_pred)\n",
    "    lr_report = classification_report(y_new, y_pred)\n",
    "    print(f'KNN Performance for {algo} produced predictions {lr_accuracy}')"
   ],
   "id": "f18af06ab1251a9e",
   "outputs": [
    {
     "name": "stdout",
     "output_type": "stream",
     "text": [
      "KNN Performance for CNN produced predictions 0.16621253405994552\n",
      "KNN Performance for DT produced predictions 0.9536784741144414\n",
      "KNN Performance for LeNet5 produced predictions 0.989100817438692\n",
      "KNN Performance for LR produced predictions 0.989100817438692\n"
     ]
    }
   ],
   "execution_count": 20
  },
  {
   "metadata": {},
   "cell_type": "code",
   "outputs": [],
   "execution_count": null,
   "source": "",
   "id": "eabf75cf563a497b"
  }
 ],
 "metadata": {
  "kernelspec": {
   "display_name": "Python 3",
   "language": "python",
   "name": "python3"
  },
  "language_info": {
   "codemirror_mode": {
    "name": "ipython",
    "version": 2
   },
   "file_extension": ".py",
   "mimetype": "text/x-python",
   "name": "python",
   "nbconvert_exporter": "python",
   "pygments_lexer": "ipython2",
   "version": "2.7.6"
  }
 },
 "nbformat": 4,
 "nbformat_minor": 5
}
