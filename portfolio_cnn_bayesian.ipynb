{
 "cells": [
  {
   "metadata": {
    "ExecuteTime": {
     "end_time": "2024-08-05T14:09:38.379098Z",
     "start_time": "2024-08-05T14:09:33.013540Z"
    }
   },
   "cell_type": "code",
   "source": [
    "import warnings\n",
    "\n",
    "import numpy as np\n",
    "import pandas as pd\n",
    "from scikeras.wrappers import KerasClassifier\n",
    "from sklearn.metrics import accuracy_score\n",
    "from sklearn.metrics import classification_report\n",
    "from sklearn.model_selection import cross_val_score\n",
    "from sklearn.preprocessing import StandardScaler\n",
    "from tensorflow.keras.layers import Dense, Conv1D, Flatten, Dropout\n",
    "from tensorflow.keras.models import Sequential\n",
    "from tensorflow.keras.optimizers import Adam\n",
    "\n",
    "from utils import preprocess_data, bayesian_optimisation, write_new_data_file\n",
    "\n",
    "warnings.filterwarnings(\"ignore\")"
   ],
   "id": "6d5204cf2cc5e63f",
   "outputs": [
    {
     "name": "stderr",
     "output_type": "stream",
     "text": [
      "2024-08-05 15:09:35.346219: I tensorflow/core/platform/cpu_feature_guard.cc:210] This TensorFlow binary is optimized to use available CPU instructions in performance-critical operations.\n",
      "To enable the following instructions: AVX2 FMA, in other operations, rebuild TensorFlow with the appropriate compiler flags.\n"
     ]
    }
   ],
   "execution_count": 2
  },
  {
   "metadata": {
    "ExecuteTime": {
     "end_time": "2024-08-05T14:10:01.666490Z",
     "start_time": "2024-08-05T14:10:01.635771Z"
    }
   },
   "cell_type": "code",
   "source": "X_train, X_test, y_train, y_test, train_df, test_df = preprocess_data(standardise=True)",
   "id": "fe22a73e3c1d9b",
   "outputs": [],
   "execution_count": 10
  },
  {
   "metadata": {
    "ExecuteTime": {
     "end_time": "2024-08-05T14:10:02.404921Z",
     "start_time": "2024-08-05T14:10:02.400870Z"
    }
   },
   "cell_type": "code",
   "source": [
    "def create_cnn_model(learning_rate, dropout_rate, num_filters, kernel_size):\n",
    "    model = Sequential()\n",
    "    model.add(Conv1D(filters=int(num_filters), kernel_size=int(kernel_size), activation='relu', input_shape=(X_train.shape[1], 1)))\n",
    "    model.add(Flatten())\n",
    "    model.add(Dropout(rate=dropout_rate))\n",
    "    model.add(Dense(1, activation='sigmoid'))\n",
    "\n",
    "    optimizer = Adam(learning_rate=learning_rate)\n",
    "    model.compile(optimizer=optimizer, loss='binary_crossentropy', metrics=['accuracy'])\n",
    "\n",
    "    return model\n"
   ],
   "id": "37dfa74255f66985",
   "outputs": [],
   "execution_count": 11
  },
  {
   "metadata": {
    "ExecuteTime": {
     "end_time": "2024-08-05T14:10:02.830122Z",
     "start_time": "2024-08-05T14:10:02.826811Z"
    }
   },
   "cell_type": "code",
   "source": [
    "def optimise_cnn(learning_rate, dropout_rate, num_filters, kernel_size):\n",
    "    model = KerasClassifier(build_fn=create_cnn_model,\n",
    "                            learning_rate=learning_rate,\n",
    "                            dropout_rate=dropout_rate,\n",
    "                            num_filters=num_filters,\n",
    "                            kernel_size=kernel_size,\n",
    "                            epochs=10,\n",
    "                            batch_size=10,\n",
    "                            verbose=0)\n",
    "\n",
    "    return cross_val_score(model, X_train, y_train, cv=3, scoring='accuracy').mean()"
   ],
   "id": "d77a43b46c4af4e4",
   "outputs": [],
   "execution_count": 12
  },
  {
   "metadata": {
    "ExecuteTime": {
     "end_time": "2024-08-05T14:10:21.868577Z",
     "start_time": "2024-08-05T14:10:03.414762Z"
    }
   },
   "cell_type": "code",
   "source": [
    "param_space = np.array([\n",
    "    (0.0001, 0.01),     # learning_rate\n",
    "    (0.1, 0.5),         # dropout_rate\n",
    "    (10, 50),           # num_filters\n",
    "    (2, 5)              # kernel_size\n",
    "])\n",
    "n_iters = 25\n",
    "initial_samples = 5\n",
    "\n",
    "# Initial random samples\n",
    "x0 = np.random.uniform(param_space[:, 0], param_space[:, 1], size=(initial_samples, param_space.shape[0]))\n",
    "y0 = np.array([optimise_cnn(*params) for params in x0])\n",
    "\n",
    "gp_params = {\"alpha\": 1e-6}"
   ],
   "id": "5bd600eec84e9dd4",
   "outputs": [],
   "execution_count": 13
  },
  {
   "metadata": {
    "ExecuteTime": {
     "end_time": "2024-08-05T14:12:26.804024Z",
     "start_time": "2024-08-05T14:10:21.870473Z"
    }
   },
   "cell_type": "code",
   "source": [
    "X_sample, Y_sample, gpr = bayesian_optimisation(n_iters, optimise_cnn, param_space, x0, y0.reshape(-1, 1), gp_params)\n",
    "\n",
    "# Best parameters\n",
    "best_idx = np.argmax(Y_sample)\n",
    "best_params = X_sample[best_idx]\n",
    "best_accuracy = Y_sample[best_idx]\n",
    "\n",
    "print(f\"Best accuracy: {best_accuracy}\")"
   ],
   "id": "4eeb09293b7abaac",
   "outputs": [
    {
     "name": "stdout",
     "output_type": "stream",
     "text": [
      "Best accuracy: [0.82076413]\n"
     ]
    }
   ],
   "execution_count": 14
  },
  {
   "metadata": {
    "ExecuteTime": {
     "end_time": "2024-08-05T14:12:30.036196Z",
     "start_time": "2024-08-05T14:12:26.805622Z"
    }
   },
   "cell_type": "code",
   "source": [
    "best_model = create_cnn_model(\n",
    "    learning_rate=best_params[0],\n",
    "    dropout_rate=best_params[1],\n",
    "    num_filters=best_params[2],\n",
    "    kernel_size=best_params[3]\n",
    ")\n",
    "\n",
    "best_model.fit(X_train, y_train, epochs=50, batch_size=10, verbose=0)\n",
    "y_pred = best_model.predict(X_test)\n",
    "y_pred = (y_pred > 0.5).astype(int)  # Convert probabilities to class labels\n",
    "\n",
    "accuracy = accuracy_score(y_test, y_pred)\n",
    "print(f\"Optimized CNN Accuracy: {accuracy}\")\n",
    "X_test.shape"
   ],
   "id": "2cf99ef2636dd08a",
   "outputs": [
    {
     "name": "stdout",
     "output_type": "stream",
     "text": [
      "\u001B[1m4/4\u001B[0m \u001B[32m━━━━━━━━━━━━━━━━━━━━\u001B[0m\u001B[37m\u001B[0m \u001B[1m0s\u001B[0m 9ms/step \n",
      "Optimized CNN Accuracy: 0.7642276422764228\n"
     ]
    },
    {
     "data": {
      "text/plain": [
       "(123, 13)"
      ]
     },
     "execution_count": 15,
     "metadata": {},
     "output_type": "execute_result"
    }
   ],
   "execution_count": 15
  },
  {
   "metadata": {
    "ExecuteTime": {
     "end_time": "2024-08-05T14:12:32.919840Z",
     "start_time": "2024-08-05T14:12:32.777248Z"
    }
   },
   "cell_type": "code",
   "source": [
    "target_filename = \"data/loan_sanction_test_with_predictions_cnn.csv\"\n",
    "write_new_data_file(best_model, X_train, y_train, test_df, target_filename)"
   ],
   "id": "c17e7b38511fd2cc",
   "outputs": [
    {
     "name": "stdout",
     "output_type": "stream",
     "text": [
      "\u001B[1m16/16\u001B[0m \u001B[32m━━━━━━━━━━━━━━━━━━━━\u001B[0m\u001B[37m\u001B[0m \u001B[1m0s\u001B[0m 1ms/step - accuracy: 0.8465 - loss: 0.3862 \n",
      "\u001B[1m12/12\u001B[0m \u001B[32m━━━━━━━━━━━━━━━━━━━━\u001B[0m\u001B[37m\u001B[0m \u001B[1m0s\u001B[0m 711us/step\n",
      "Predictions have been saved to data/loan_sanction_test_with_predictions_cnn.csv.\n"
     ]
    }
   ],
   "execution_count": 16
  },
  {
   "metadata": {
    "ExecuteTime": {
     "end_time": "2024-08-05T14:35:28.195076Z",
     "start_time": "2024-08-05T14:35:27.920175Z"
    }
   },
   "cell_type": "code",
   "source": [
    "for algo, filename in {\n",
    "    \"DT\" : 'data/loan_sanction_test_with_predictions_decision_tree.csv',\n",
    "    \"KNN\": 'data/loan_sanction_test_with_predictions_knn.csv',\n",
    "    \"LeNet5\": 'data/loan_sanction_test_with_predictions_lenet5.csv',\n",
    "    \"LR\": 'data/loan_sanction_test_with_predictions_lr.csv',\n",
    "    \n",
    "}.items():\n",
    "    test_df_new = pd.read_csv(filename)\n",
    "    X_new = test_df_new.drop(columns=['Loan_ID', 'Loan_Status'])\n",
    "    y_new = test_df_new['Loan_Status']\n",
    "    \n",
    "    # Only scale for those that were scaled\n",
    "    scaler = StandardScaler()\n",
    "    X_new = scaler.fit_transform(X_new)\n",
    "    \n",
    "    y_pred = best_model.predict(X_new)\n",
    "    y_pred = (y_pred > 0.5).astype(int)  # Convert probabilities to class labels\n",
    "\n",
    "    lr_accuracy = accuracy_score(y_new, y_pred)\n",
    "    lr_report = classification_report(y_new, y_pred)\n",
    "    print(f'CNN Performance for {algo} produced predictions {lr_accuracy}')"
   ],
   "id": "a6673165526930cc",
   "outputs": [
    {
     "name": "stdout",
     "output_type": "stream",
     "text": [
      "\u001B[1m12/12\u001B[0m \u001B[32m━━━━━━━━━━━━━━━━━━━━\u001B[0m\u001B[37m\u001B[0m \u001B[1m0s\u001B[0m 690us/step\n",
      "CNN Performance for DT produced predictions 0.9182561307901907\n",
      "\u001B[1m12/12\u001B[0m \u001B[32m━━━━━━━━━━━━━━━━━━━━\u001B[0m\u001B[37m\u001B[0m \u001B[1m0s\u001B[0m 689us/step\n",
      "CNN Performance for KNN produced predictions 0.44686648501362397\n",
      "\u001B[1m12/12\u001B[0m \u001B[32m━━━━━━━━━━━━━━━━━━━━\u001B[0m\u001B[37m\u001B[0m \u001B[1m0s\u001B[0m 666us/step\n",
      "CNN Performance for LeNet5 produced predictions 0.9536784741144414\n",
      "\u001B[1m12/12\u001B[0m \u001B[32m━━━━━━━━━━━━━━━━━━━━\u001B[0m\u001B[37m\u001B[0m \u001B[1m0s\u001B[0m 682us/step\n",
      "CNN Performance for LR produced predictions 0.9536784741144414\n"
     ]
    }
   ],
   "execution_count": 28
  },
  {
   "metadata": {
    "ExecuteTime": {
     "end_time": "2024-08-05T14:02:40.873369Z",
     "start_time": "2024-08-05T14:02:40.871332Z"
    }
   },
   "cell_type": "code",
   "source": "",
   "id": "f7a30025ae1e956f",
   "outputs": [],
   "execution_count": 9
  }
 ],
 "metadata": {
  "kernelspec": {
   "display_name": "Python 3",
   "language": "python",
   "name": "python3"
  },
  "language_info": {
   "codemirror_mode": {
    "name": "ipython",
    "version": 2
   },
   "file_extension": ".py",
   "mimetype": "text/x-python",
   "name": "python",
   "nbconvert_exporter": "python",
   "pygments_lexer": "ipython2",
   "version": "2.7.6"
  }
 },
 "nbformat": 4,
 "nbformat_minor": 5
}
