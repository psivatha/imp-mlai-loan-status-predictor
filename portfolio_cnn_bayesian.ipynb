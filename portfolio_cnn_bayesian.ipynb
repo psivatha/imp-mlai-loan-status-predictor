{
 "cells": [
  {
   "metadata": {
    "ExecuteTime": {
     "end_time": "2024-08-05T09:40:44.920114Z",
     "start_time": "2024-08-05T09:40:33.653211Z"
    }
   },
   "cell_type": "code",
   "source": [
    "import warnings\n",
    "\n",
    "import numpy as np\n",
    "from scikeras.wrappers import KerasClassifier\n",
    "from sklearn.metrics import accuracy_score\n",
    "from sklearn.model_selection import cross_val_score\n",
    "from tensorflow.keras.layers import Dense, Conv1D, Flatten, Dropout\n",
    "from tensorflow.keras.models import Sequential\n",
    "from tensorflow.keras.optimizers import Adam\n",
    "\n",
    "from utils import preprocess_data, bayesian_optimisation\n",
    "\n",
    "warnings.filterwarnings(\"ignore\")"
   ],
   "id": "6d5204cf2cc5e63f",
   "outputs": [],
   "execution_count": 2
  },
  {
   "metadata": {
    "ExecuteTime": {
     "end_time": "2024-08-05T09:40:47.882819Z",
     "start_time": "2024-08-05T09:40:47.847929Z"
    }
   },
   "cell_type": "code",
   "source": "X_train, X_test, y_train, y_test, train_df, test_df = preprocess_data(standardise=True)",
   "id": "fe22a73e3c1d9b",
   "outputs": [],
   "execution_count": 3
  },
  {
   "metadata": {
    "ExecuteTime": {
     "end_time": "2024-08-05T09:40:49.038416Z",
     "start_time": "2024-08-05T09:40:49.032829Z"
    }
   },
   "cell_type": "code",
   "source": [
    "def create_cnn_model(learning_rate, dropout_rate, num_filters, kernel_size):\n",
    "    model = Sequential()\n",
    "    model.add(Conv1D(filters=int(num_filters), kernel_size=int(kernel_size), activation='relu', input_shape=(X_train.shape[1], 1)))\n",
    "    model.add(Flatten())\n",
    "    model.add(Dropout(rate=dropout_rate))\n",
    "    model.add(Dense(1, activation='sigmoid'))\n",
    "\n",
    "    optimizer = Adam(learning_rate=learning_rate)\n",
    "    model.compile(optimizer=optimizer, loss='binary_crossentropy', metrics=['accuracy'])\n",
    "\n",
    "    return model\n"
   ],
   "id": "37dfa74255f66985",
   "outputs": [],
   "execution_count": 4
  },
  {
   "metadata": {
    "ExecuteTime": {
     "end_time": "2024-08-05T09:40:50.031136Z",
     "start_time": "2024-08-05T09:40:50.027343Z"
    }
   },
   "cell_type": "code",
   "source": [
    "def optimise_cnn(learning_rate, dropout_rate, num_filters, kernel_size):\n",
    "    model = KerasClassifier(build_fn=create_cnn_model,\n",
    "                            learning_rate=learning_rate,\n",
    "                            dropout_rate=dropout_rate,\n",
    "                            num_filters=num_filters,\n",
    "                            kernel_size=kernel_size,\n",
    "                            epochs=10,\n",
    "                            batch_size=10,\n",
    "                            verbose=0)\n",
    "\n",
    "    return cross_val_score(model, X_train, y_train, cv=3, scoring='accuracy').mean()"
   ],
   "id": "d77a43b46c4af4e4",
   "outputs": [],
   "execution_count": 5
  },
  {
   "metadata": {
    "ExecuteTime": {
     "end_time": "2024-08-05T09:41:13.730373Z",
     "start_time": "2024-08-05T09:40:50.969440Z"
    }
   },
   "cell_type": "code",
   "source": [
    "param_space = np.array([\n",
    "    (0.0001, 0.01),     # learning_rate\n",
    "    (0.1, 0.5),         # dropout_rate\n",
    "    (10, 50),           # num_filters\n",
    "    (2, 5)              # kernel_size\n",
    "])\n",
    "n_iters = 25\n",
    "initial_samples = 5\n",
    "\n",
    "# Initial random samples\n",
    "x0 = np.random.uniform(param_space[:, 0], param_space[:, 1], size=(initial_samples, param_space.shape[0]))\n",
    "y0 = np.array([optimise_cnn(*params) for params in x0])\n",
    "\n",
    "gp_params = {\"alpha\": 1e-6}"
   ],
   "id": "5bd600eec84e9dd4",
   "outputs": [],
   "execution_count": 6
  },
  {
   "metadata": {
    "ExecuteTime": {
     "end_time": "2024-08-05T09:47:25.896976Z",
     "start_time": "2024-08-05T09:45:14.811224Z"
    }
   },
   "cell_type": "code",
   "source": [
    "X_sample, Y_sample, gpr = bayesian_optimisation(n_iters, optimise_cnn, param_space, x0, y0.reshape(-1, 1), gp_params)\n",
    "\n",
    "# Best parameters\n",
    "best_idx = np.argmax(Y_sample)\n",
    "best_params = X_sample[best_idx]\n",
    "best_accuracy = Y_sample[best_idx]\n",
    "\n",
    "print(f\"Best accuracy: {best_accuracy}\")"
   ],
   "id": "4eeb09293b7abaac",
   "outputs": [
    {
     "name": "stdout",
     "output_type": "stream",
     "text": [
      "Best accuracy: [0.81060153]\n"
     ]
    }
   ],
   "execution_count": 10
  },
  {
   "metadata": {
    "ExecuteTime": {
     "end_time": "2024-08-05T09:51:01.935428Z",
     "start_time": "2024-08-05T09:50:58.476150Z"
    }
   },
   "cell_type": "code",
   "source": [
    "best_model = create_cnn_model(\n",
    "    learning_rate=best_params[0],\n",
    "    dropout_rate=best_params[1],\n",
    "    num_filters=best_params[2],\n",
    "    kernel_size=best_params[3]\n",
    ")\n",
    "\n",
    "best_model.fit(X_train, y_train, epochs=50, batch_size=10, verbose=0)\n",
    "y_pred = best_model.predict(X_test)\n",
    "y_pred = (y_pred > 0.5).astype(int)  # Convert probabilities to class labels\n",
    "\n",
    "accuracy = accuracy_score(y_test, y_pred)\n",
    "print(f\"Optimized CNN Accuracy: {accuracy}\")"
   ],
   "id": "2cf99ef2636dd08a",
   "outputs": [
    {
     "name": "stdout",
     "output_type": "stream",
     "text": [
      "\u001B[1m4/4\u001B[0m \u001B[32m━━━━━━━━━━━━━━━━━━━━\u001B[0m\u001B[37m\u001B[0m \u001B[1m0s\u001B[0m 10ms/step\n",
      "Optimized CNN Accuracy: 0.7642276422764228\n"
     ]
    }
   ],
   "execution_count": 12
  },
  {
   "metadata": {
    "ExecuteTime": {
     "end_time": "2024-08-05T08:22:35.500568Z",
     "start_time": "2024-08-05T08:22:35.497681Z"
    }
   },
   "cell_type": "code",
   "source": [
    "# test_df_generated = pd.read_csv('data/loan_sanction_test_with_predictions_decision_tree.csv')\n",
    "# \n",
    "# test_df_generated['Loan_Status'] = test_df_generated['Loan_Status'].map({'Y': 1, 'N': 0})\n",
    "# test_df_generated.head()\n",
    "# X_test_generated = test_df_generated.drop(['Loan_ID', 'Loan_Status'], axis=1)\n",
    "# Y_test_generated = test_df_generated['Loan_Status']\n",
    "# \n",
    "# \n",
    "# Y_test_predict = best_model.predict(X_test_generated)\n",
    "# accuracy_generated = accuracy_score(Y_test_generated, Y_test_predict)\n",
    "# print(f\"Optimized KNN Accuracy: {accuracy_generated}\")"
   ],
   "id": "c17e7b38511fd2cc",
   "outputs": [],
   "execution_count": 23
  },
  {
   "metadata": {},
   "cell_type": "code",
   "outputs": [],
   "execution_count": null,
   "source": "",
   "id": "a6673165526930cc"
  }
 ],
 "metadata": {
  "kernelspec": {
   "display_name": "Python 3",
   "language": "python",
   "name": "python3"
  },
  "language_info": {
   "codemirror_mode": {
    "name": "ipython",
    "version": 2
   },
   "file_extension": ".py",
   "mimetype": "text/x-python",
   "name": "python",
   "nbconvert_exporter": "python",
   "pygments_lexer": "ipython2",
   "version": "2.7.6"
  }
 },
 "nbformat": 4,
 "nbformat_minor": 5
}
