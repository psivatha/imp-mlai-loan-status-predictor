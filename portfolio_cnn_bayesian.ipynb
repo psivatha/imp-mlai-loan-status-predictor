{
 "cells": [
  {
   "metadata": {
    "ExecuteTime": {
     "end_time": "2024-08-04T08:42:17.049371Z",
     "start_time": "2024-08-04T08:42:17.024752Z"
    }
   },
   "cell_type": "code",
   "source": [
    "import warnings\n",
    "\n",
    "from sklearn.model_selection import cross_val_score\n",
    "\n",
    "from sklearn.metrics import accuracy_score\n",
    "from bayes_opt import BayesianOptimization\n",
    "from tensorflow.keras.models import Sequential\n",
    "from tensorflow.keras.layers import Dense, Conv1D, Flatten, Dropout\n",
    "from tensorflow.keras.optimizers import Adam\n",
    "from scikeras.wrappers import KerasClassifier\n",
    "\n",
    "from utils import preprocess_data\n",
    "warnings.filterwarnings(\"ignore\")"
   ],
   "id": "6d5204cf2cc5e63f",
   "outputs": [
    {
     "ename": "ModuleNotFoundError",
     "evalue": "No module named 'tensorflow.keras'",
     "output_type": "error",
     "traceback": [
      "\u001B[0;31m---------------------------------------------------------------------------\u001B[0m",
      "\u001B[0;31mModuleNotFoundError\u001B[0m                       Traceback (most recent call last)",
      "Cell \u001B[0;32mIn[2], line 7\u001B[0m\n\u001B[1;32m      5\u001B[0m \u001B[38;5;28;01mfrom\u001B[39;00m \u001B[38;5;21;01msklearn\u001B[39;00m\u001B[38;5;21;01m.\u001B[39;00m\u001B[38;5;21;01mmetrics\u001B[39;00m \u001B[38;5;28;01mimport\u001B[39;00m accuracy_score\n\u001B[1;32m      6\u001B[0m \u001B[38;5;28;01mfrom\u001B[39;00m \u001B[38;5;21;01mbayes_opt\u001B[39;00m \u001B[38;5;28;01mimport\u001B[39;00m BayesianOptimization\n\u001B[0;32m----> 7\u001B[0m \u001B[38;5;28;01mfrom\u001B[39;00m \u001B[38;5;21;01mtensorflow\u001B[39;00m\u001B[38;5;21;01m.\u001B[39;00m\u001B[38;5;21;01mkeras\u001B[39;00m\u001B[38;5;21;01m.\u001B[39;00m\u001B[38;5;21;01mmodels\u001B[39;00m \u001B[38;5;28;01mimport\u001B[39;00m Sequential\n\u001B[1;32m      8\u001B[0m \u001B[38;5;28;01mfrom\u001B[39;00m \u001B[38;5;21;01mtensorflow\u001B[39;00m\u001B[38;5;21;01m.\u001B[39;00m\u001B[38;5;21;01mkeras\u001B[39;00m\u001B[38;5;21;01m.\u001B[39;00m\u001B[38;5;21;01mlayers\u001B[39;00m \u001B[38;5;28;01mimport\u001B[39;00m Dense, Conv1D, Flatten, Dropout\n\u001B[1;32m      9\u001B[0m \u001B[38;5;28;01mfrom\u001B[39;00m \u001B[38;5;21;01mtensorflow\u001B[39;00m\u001B[38;5;21;01m.\u001B[39;00m\u001B[38;5;21;01mkeras\u001B[39;00m\u001B[38;5;21;01m.\u001B[39;00m\u001B[38;5;21;01moptimizers\u001B[39;00m \u001B[38;5;28;01mimport\u001B[39;00m Adam\n",
      "\u001B[0;31mModuleNotFoundError\u001B[0m: No module named 'tensorflow.keras'"
     ]
    }
   ],
   "execution_count": 2
  },
  {
   "metadata": {},
   "cell_type": "code",
   "source": [
    "warnings.filterwarnings(\"ignore\")\n",
    "\n",
    "X_train, X_test, y_train, y_test, train_df, test_df = preprocess_data(standardise=True)"
   ],
   "id": "fe22a73e3c1d9b",
   "outputs": [],
   "execution_count": null
  },
  {
   "metadata": {
    "ExecuteTime": {
     "end_time": "2024-08-02T21:02:55.928120Z",
     "start_time": "2024-08-02T21:02:55.919468Z"
    }
   },
   "cell_type": "code",
   "source": [
    "def create_cnn_model(learning_rate, dropout_rate, num_filters, kernel_size):\n",
    "    model = Sequential()\n",
    "    model.add(Conv1D(filters=int(num_filters), kernel_size=int(kernel_size), activation='relu', input_shape=(X_train.shape[1], 1)))\n",
    "    model.add(Flatten())\n",
    "    model.add(Dropout(rate=dropout_rate))\n",
    "    model.add(Dense(1, activation='sigmoid'))\n",
    "\n",
    "    optimizer = Adam(learning_rate=learning_rate)\n",
    "    model.compile(optimizer=optimizer, loss='binary_crossentropy', metrics=['accuracy'])\n",
    "\n",
    "    return model\n"
   ],
   "id": "37dfa74255f66985",
   "outputs": [],
   "execution_count": 36
  },
  {
   "metadata": {
    "ExecuteTime": {
     "end_time": "2024-08-02T21:02:56.840719Z",
     "start_time": "2024-08-02T21:02:56.835069Z"
    }
   },
   "cell_type": "code",
   "source": [
    "def optimize_cnn(learning_rate, dropout_rate, num_filters, kernel_size):\n",
    "    model = KerasClassifier(build_fn=create_cnn_model,\n",
    "                            learning_rate=learning_rate,\n",
    "                            dropout_rate=dropout_rate,\n",
    "                            num_filters=num_filters,\n",
    "                            kernel_size=kernel_size,\n",
    "                            epochs=10,\n",
    "                            batch_size=10,\n",
    "                            verbose=0)\n",
    "\n",
    "    return cross_val_score(model, X_train, y_train, cv=3, scoring='accuracy').mean()"
   ],
   "id": "d77a43b46c4af4e4",
   "outputs": [],
   "execution_count": 37
  },
  {
   "metadata": {
    "ExecuteTime": {
     "end_time": "2024-08-02T21:02:57.838551Z",
     "start_time": "2024-08-02T21:02:57.834504Z"
    }
   },
   "cell_type": "code",
   "source": [
    "param_space = {\n",
    "    'learning_rate': (0.0001, 0.01),\n",
    "    'dropout_rate': (0.1, 0.5),\n",
    "    'num_filters': (10, 50),\n",
    "    'kernel_size': (2, 5)\n",
    "}"
   ],
   "id": "5bd600eec84e9dd4",
   "outputs": [],
   "execution_count": 38
  },
  {
   "metadata": {
    "ExecuteTime": {
     "end_time": "2024-08-02T21:05:10.617659Z",
     "start_time": "2024-08-02T21:02:58.730009Z"
    }
   },
   "cell_type": "code",
   "source": [
    "optimizer = BayesianOptimization(\n",
    "    f=optimize_cnn,\n",
    "    pbounds=param_space,\n",
    "    random_state=42\n",
    ")\n",
    "\n",
    "optimizer.maximize(init_points=5, n_iter=25)"
   ],
   "id": "4eeb09293b7abaac",
   "outputs": [
    {
     "name": "stdout",
     "output_type": "stream",
     "text": [
      "|   iter    |  target   | dropou... | kernel... | learni... | num_fi... |\n",
      "-------------------------------------------------------------------------\n",
      "| \u001B[39m1        \u001B[39m | \u001B[39m0.8004   \u001B[39m | \u001B[39m0.2498   \u001B[39m | \u001B[39m4.852    \u001B[39m | \u001B[39m0.007347 \u001B[39m | \u001B[39m33.95    \u001B[39m |\n",
      "| \u001B[35m2        \u001B[39m | \u001B[35m0.8167   \u001B[39m | \u001B[35m0.1624   \u001B[39m | \u001B[35m2.468    \u001B[39m | \u001B[35m0.000675 \u001B[39m | \u001B[35m44.65    \u001B[39m |\n",
      "| \u001B[39m3        \u001B[39m | \u001B[39m0.8106   \u001B[39m | \u001B[39m0.3404   \u001B[39m | \u001B[39m4.124    \u001B[39m | \u001B[39m0.0003038\u001B[39m | \u001B[39m48.8     \u001B[39m |\n",
      "| \u001B[39m4        \u001B[39m | \u001B[39m0.8167   \u001B[39m | \u001B[39m0.433    \u001B[39m | \u001B[39m2.637    \u001B[39m | \u001B[39m0.0019   \u001B[39m | \u001B[39m17.34    \u001B[39m |\n",
      "| \u001B[39m5        \u001B[39m | \u001B[39m0.7963   \u001B[39m | \u001B[39m0.2217   \u001B[39m | \u001B[39m3.574    \u001B[39m | \u001B[39m0.004376 \u001B[39m | \u001B[39m21.65    \u001B[39m |\n",
      "| \u001B[39m6        \u001B[39m | \u001B[39m0.8004   \u001B[39m | \u001B[39m0.1399   \u001B[39m | \u001B[39m2.421    \u001B[39m | \u001B[39m0.007504 \u001B[39m | \u001B[39m44.6     \u001B[39m |\n",
      "| \u001B[39m7        \u001B[39m | \u001B[39m0.8065   \u001B[39m | \u001B[39m0.4739   \u001B[39m | \u001B[39m4.476    \u001B[39m | \u001B[39m0.004009 \u001B[39m | \u001B[39m28.34    \u001B[39m |\n",
      "| \u001B[39m8        \u001B[39m | \u001B[39m0.8106   \u001B[39m | \u001B[39m0.4862   \u001B[39m | \u001B[39m3.428    \u001B[39m | \u001B[39m0.006884 \u001B[39m | \u001B[39m48.29    \u001B[39m |\n",
      "| \u001B[39m9        \u001B[39m | \u001B[39m0.7943   \u001B[39m | \u001B[39m0.3083   \u001B[39m | \u001B[39m3.659    \u001B[39m | \u001B[39m0.009978 \u001B[39m | \u001B[39m23.37    \u001B[39m |\n",
      "| \u001B[39m10       \u001B[39m | \u001B[39m0.8065   \u001B[39m | \u001B[39m0.3276   \u001B[39m | \u001B[39m3.089    \u001B[39m | \u001B[39m0.00459  \u001B[39m | \u001B[39m11.04    \u001B[39m |\n",
      "| \u001B[39m11       \u001B[39m | \u001B[39m0.8004   \u001B[39m | \u001B[39m0.4748   \u001B[39m | \u001B[39m4.252    \u001B[39m | \u001B[39m0.002969 \u001B[39m | \u001B[39m44.79    \u001B[39m |\n",
      "| \u001B[39m12       \u001B[39m | \u001B[39m0.8024   \u001B[39m | \u001B[39m0.1998   \u001B[39m | \u001B[39m4.431    \u001B[39m | \u001B[39m0.00374  \u001B[39m | \u001B[39m46.26    \u001B[39m |\n",
      "| \u001B[39m13       \u001B[39m | \u001B[39m0.8004   \u001B[39m | \u001B[39m0.1543   \u001B[39m | \u001B[39m2.264    \u001B[39m | \u001B[39m0.005366 \u001B[39m | \u001B[39m14.43    \u001B[39m |\n",
      "| \u001B[39m14       \u001B[39m | \u001B[39m0.8126   \u001B[39m | \u001B[39m0.4685   \u001B[39m | \u001B[39m2.582    \u001B[39m | \u001B[39m0.001549 \u001B[39m | \u001B[39m24.95    \u001B[39m |\n",
      "| \u001B[39m15       \u001B[39m | \u001B[39m0.8025   \u001B[39m | \u001B[39m0.2619   \u001B[39m | \u001B[39m2.468    \u001B[39m | \u001B[39m0.008112 \u001B[39m | \u001B[39m17.32    \u001B[39m |\n",
      "| \u001B[39m16       \u001B[39m | \u001B[39m0.8106   \u001B[39m | \u001B[39m0.4923   \u001B[39m | \u001B[39m3.436    \u001B[39m | \u001B[39m0.001641 \u001B[39m | \u001B[39m16.42    \u001B[39m |\n",
      "| \u001B[39m17       \u001B[39m | \u001B[39m0.7983   \u001B[39m | \u001B[39m0.4498   \u001B[39m | \u001B[39m2.649    \u001B[39m | \u001B[39m0.003995 \u001B[39m | \u001B[39m36.57    \u001B[39m |\n",
      "| \u001B[39m18       \u001B[39m | \u001B[39m0.7434   \u001B[39m | \u001B[39m0.1521   \u001B[39m | \u001B[39m3.612    \u001B[39m | \u001B[39m0.0003682\u001B[39m | \u001B[39m10.72    \u001B[39m |\n",
      "| \u001B[39m19       \u001B[39m | \u001B[39m0.7679   \u001B[39m | \u001B[39m0.1396   \u001B[39m | \u001B[39m4.429    \u001B[39m | \u001B[39m0.00806  \u001B[39m | \u001B[39m49.01    \u001B[39m |\n",
      "| \u001B[39m20       \u001B[39m | \u001B[39m0.8045   \u001B[39m | \u001B[39m0.1685   \u001B[39m | \u001B[39m2.475    \u001B[39m | \u001B[39m0.005209 \u001B[39m | \u001B[39m44.65    \u001B[39m |\n",
      "| \u001B[39m21       \u001B[39m | \u001B[39m0.8146   \u001B[39m | \u001B[39m0.4333   \u001B[39m | \u001B[39m3.29     \u001B[39m | \u001B[39m0.002554 \u001B[39m | \u001B[39m20.24    \u001B[39m |\n",
      "| \u001B[39m22       \u001B[39m | \u001B[39m0.8126   \u001B[39m | \u001B[39m0.4058   \u001B[39m | \u001B[39m3.3      \u001B[39m | \u001B[39m0.003422 \u001B[39m | \u001B[39m31.61    \u001B[39m |\n",
      "| \u001B[39m23       \u001B[39m | \u001B[39m0.8085   \u001B[39m | \u001B[39m0.4614   \u001B[39m | \u001B[39m4.076    \u001B[39m | \u001B[39m0.004744 \u001B[39m | \u001B[39m14.84    \u001B[39m |\n",
      "| \u001B[39m24       \u001B[39m | \u001B[39m0.8004   \u001B[39m | \u001B[39m0.2873   \u001B[39m | \u001B[39m3.416    \u001B[39m | \u001B[39m0.009612 \u001B[39m | \u001B[39m38.03    \u001B[39m |\n",
      "| \u001B[39m25       \u001B[39m | \u001B[39m0.7984   \u001B[39m | \u001B[39m0.3478   \u001B[39m | \u001B[39m4.112    \u001B[39m | \u001B[39m0.008367 \u001B[39m | \u001B[39m48.78    \u001B[39m |\n",
      "| \u001B[39m26       \u001B[39m | \u001B[39m0.8005   \u001B[39m | \u001B[39m0.1098   \u001B[39m | \u001B[39m3.436    \u001B[39m | \u001B[39m0.007588 \u001B[39m | \u001B[39m31.05    \u001B[39m |\n",
      "| \u001B[39m27       \u001B[39m | \u001B[39m0.8045   \u001B[39m | \u001B[39m0.4108   \u001B[39m | \u001B[39m2.222    \u001B[39m | \u001B[39m0.008378 \u001B[39m | \u001B[39m10.77    \u001B[39m |\n",
      "| \u001B[39m28       \u001B[39m | \u001B[39m0.8106   \u001B[39m | \u001B[39m0.1508   \u001B[39m | \u001B[39m2.633    \u001B[39m | \u001B[39m0.006323 \u001B[39m | \u001B[39m48.87    \u001B[39m |\n",
      "| \u001B[39m29       \u001B[39m | \u001B[39m0.8126   \u001B[39m | \u001B[39m0.4162   \u001B[39m | \u001B[39m3.704    \u001B[39m | \u001B[39m0.001255 \u001B[39m | \u001B[39m35.61    \u001B[39m |\n",
      "| \u001B[39m30       \u001B[39m | \u001B[39m0.8146   \u001B[39m | \u001B[39m0.1956   \u001B[39m | \u001B[39m4.976    \u001B[39m | \u001B[39m0.001329 \u001B[39m | \u001B[39m22.68    \u001B[39m |\n",
      "=========================================================================\n"
     ]
    }
   ],
   "execution_count": 39
  },
  {
   "metadata": {
    "ExecuteTime": {
     "end_time": "2024-08-02T21:05:38.301037Z",
     "start_time": "2024-08-02T21:05:34.746258Z"
    }
   },
   "cell_type": "code",
   "source": [
    "best_params = optimizer.max['params']\n",
    "best_model = create_cnn_model(\n",
    "    learning_rate=best_params['learning_rate'],\n",
    "    dropout_rate=best_params['dropout_rate'],\n",
    "    num_filters=best_params['num_filters'],\n",
    "    kernel_size=best_params['kernel_size']\n",
    ")\n",
    "\n",
    "best_model.fit(X_train, y_train, epochs=50, batch_size=10, verbose=0)\n",
    "y_pred = best_model.predict(X_test)\n",
    "y_pred = (y_pred > 0.5).astype(int)  # Convert probabilities to class labels\n",
    "\n",
    "accuracy = accuracy_score(y_test, y_pred)\n",
    "print(f\"Optimized CNN Accuracy: {accuracy}\")"
   ],
   "id": "2cf99ef2636dd08a",
   "outputs": [
    {
     "name": "stdout",
     "output_type": "stream",
     "text": [
      "\u001B[1m4/4\u001B[0m \u001B[32m━━━━━━━━━━━━━━━━━━━━\u001B[0m\u001B[37m\u001B[0m \u001B[1m0s\u001B[0m 10ms/step\n",
      "Optimized CNN Accuracy: 0.7804878048780488\n"
     ]
    }
   ],
   "execution_count": 42
  },
  {
   "metadata": {},
   "cell_type": "code",
   "outputs": [],
   "execution_count": null,
   "source": "",
   "id": "c17e7b38511fd2cc"
  }
 ],
 "metadata": {
  "kernelspec": {
   "display_name": "Python 3",
   "language": "python",
   "name": "python3"
  },
  "language_info": {
   "codemirror_mode": {
    "name": "ipython",
    "version": 2
   },
   "file_extension": ".py",
   "mimetype": "text/x-python",
   "name": "python",
   "nbconvert_exporter": "python",
   "pygments_lexer": "ipython2",
   "version": "2.7.6"
  }
 },
 "nbformat": 4,
 "nbformat_minor": 5
}
